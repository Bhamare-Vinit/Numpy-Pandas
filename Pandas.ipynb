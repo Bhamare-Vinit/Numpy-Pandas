{
 "cells": [
  {
   "cell_type": "markdown",
   "id": "bea5437d",
   "metadata": {},
   "source": [
    "## Notes\n",
    "\n",
    "To load csv data\n",
    "df = pd.read_csv('data.csv')\n",
    "\n",
    "**Pandas Series** is a one-dimensional labeled array capable of holding data of any type (integer, string, float, python objects, etc.). The axis labels are collectively called index. Labels need not be unique but must be a hashable type. The object supports both integer and label-based indexing and provides a host of methods for performing operations involving the inde\n",
    "\n",
    "use **to_string()** to print the entire DataFrame.\n",
    "\n",
    "**max_rows**\n",
    "The number of rows returned is defined in Pandas option settings.\n",
    "You can check your system's maximum rows with the pd.options.display.max_rows statement\n",
    "In my system the number is 60, which means that if the DataFrame contains more than 60 rows, the print(df) statement will return only the headers and the first and last 5 rows.\n",
    "\n",
    "\n",
    "print(**df.info()**) \n",
    "The DataFrames object has a method called info(), that gives you more information about the data set.\n",
    "\n",
    "Pandas **describe()** is used to view some basic statistical details like percentile, mean, std, etc. of a data frame or a series of numeric values. When this method is applied to a series of strings, it returns a different output which is shown in the examples below.\n",
    "\n",
    "\n",
    "Pandas **DataFrame.ix[ ]** is both Label and Integer based slicing technique. Besides pure label based and integer based, Pandas provides a hybrid method for selections and subsetting the object using the ix[] operator. ix[] is the most general indexer and will support any of the inputs in loc[] and iloc[].\n",
    "\n",
    "Pandas **str.slice()** method is used to slice substrings from a string present in Pandas series object. It is very similar to Python’s basic principal of slicing objects that works on [start:stop:step] which means it requires three parameters, where to start, where to end and how much elements to skip.\n",
    "Since this is a pandas string method, .str has to be prefixed every time before calling this method. Otherwise, it gives an error.\n",
    "\n",
    "he **corr()** method calculates the relationship between each column in your data set.\n",
    "The Result of the corr() method is a table with a lot of numbers that represents how well the relationship is between two columns.\n",
    "The number varies from -1 to 1.\n",
    "1 means that there is a 1 to 1 relationship (a perfect correlation), and for this data set, each time a value went up in the first column, the other one went up as well.\n",
    "0.9 is also a good relationship, and if you increase one value, the other will probably increase as well.\n",
    "-0.9 would be just as good relationship as 0.9, but if you increase one value, the other will probably go down.\n",
    "0.2 means NOT a good relationship, meaning that if one value goes up does not mean that the other will.\n",
    "What is a good correlation? It depends on the use, but I think it is safe to say you have to have at least 0.6 (or -0.6) to call it a good correlation.\n",
    "\n",
    "**np.vectorize**: This function is a convenient way to apply a Python function element-wise to arrays. It allows you to vectorize a function, which means you can apply it to each element of an array (or arrays) as if it were a NumPy ufunc (universal function).<br>\n",
    "Purpose: np.vectorize is intended to vectorize a Python function so it can handle NumPy arrays in an element-wise manner. This is particularly useful when dealing with functions that do not natively support array inputs."
   ]
  },
  {
   "cell_type": "markdown",
   "id": "339f5a88",
   "metadata": {},
   "source": [
    "## 1. Write a Python program to create and display a one-dimensional array-like object containing an array of data using Pandas module."
   ]
  },
  {
   "cell_type": "code",
   "execution_count": 1,
   "id": "f6446c10",
   "metadata": {},
   "outputs": [
    {
     "name": "stdout",
     "output_type": "stream",
     "text": [
      "Pandas Series:\n",
      "0    10\n",
      "1    20\n",
      "2    30\n",
      "3    40\n",
      "4    50\n",
      "dtype: int64\n"
     ]
    }
   ],
   "source": [
    "import pandas as pd\n",
    "#A Pandas Series is like a column in a table.It is a one-dimensional array holding data of any type.\n",
    "data = [10, 20, 30, 40, 50]\n",
    "series = pd.Series(data)\n",
    "\n",
    "print(\"Pandas Series:\")\n",
    "print(series)"
   ]
  },
  {
   "cell_type": "code",
   "execution_count": 8,
   "id": "e933936c",
   "metadata": {},
   "outputs": [
    {
     "name": "stdout",
     "output_type": "stream",
     "text": [
      "Pandas Series from DataFrame:\n",
      "0    10\n",
      "1    20\n",
      "2    30\n",
      "3    40\n",
      "4    50\n",
      "Name: values, dtype: int64\n"
     ]
    }
   ],
   "source": [
    "import pandas as pd\n",
    "#A Pandas DataFrame is a 2 dimensional data structure, like a 2 dimensional array, or a table with rows and columns.\n",
    "data = {'values': [10, 20, 30, 40, 50]}\n",
    "df = pd.DataFrame(data)\n",
    "#can add custome index\n",
    "#df = pd.DataFrame({'values': [10, 20, 30, 40, 50]}, index=range(5, 10))\n",
    "series = df['values']\n",
    "\n",
    "print(\"Pandas Series from DataFrame:\")\n",
    "print(series)\n"
   ]
  },
  {
   "cell_type": "markdown",
   "id": "f9b66ef4",
   "metadata": {},
   "source": [
    "## 2. Write a Python program to convert a Panda module Series to Python list and it's type."
   ]
  },
  {
   "cell_type": "code",
   "execution_count": 11,
   "id": "a95d457e",
   "metadata": {},
   "outputs": [
    {
     "name": "stdout",
     "output_type": "stream",
     "text": [
      "using series.tolist() Converted Python list:\n",
      "[10, 20, 30, 40, 50]\n",
      "Type of the converted list:\n",
      "<class 'list'>\n",
      "\n",
      "using list() Converted Python list:\n",
      "[10, 20, 30, 40, 50]\n",
      "Type of the converted list:\n",
      "<class 'list'>\n"
     ]
    }
   ],
   "source": [
    "import pandas as pd\n",
    "\n",
    "data = [10, 20, 30, 40, 50]\n",
    "series = pd.Series(data)\n",
    "\n",
    "#Pandas tolist() is used to convert a series to list. Initially \n",
    "#the series is of type pandas.core.series.Series and applying \n",
    "#tolist() method, it is converted to list data type\n",
    "data_list1 = series.tolist()\n",
    "\n",
    "# Displaying the list and its type\n",
    "print(\"using series.tolist() Converted Python list:\")\n",
    "print(data_list1)\n",
    "print(\"Type of the converted list:\")\n",
    "print(type(data_list1))\n",
    "\n",
    "#using list()\n",
    "data_list = list(series)\n",
    "print()\n",
    "print(\"using list() Converted Python list:\")\n",
    "print(data_list)\n",
    "print(\"Type of the converted list:\")\n",
    "print(type(data_list))\n",
    "\n"
   ]
  },
  {
   "cell_type": "markdown",
   "id": "7f5fe31e",
   "metadata": {},
   "source": [
    "## 3. Write a Python program to add, subtract, multiple and divide two Pandas Series.\n",
    "Sample Series: [2, 4, 6, 8, 10], [1, 3, 5, 7, 9]"
   ]
  },
  {
   "cell_type": "code",
   "execution_count": 12,
   "id": "ef076d47",
   "metadata": {},
   "outputs": [
    {
     "name": "stdout",
     "output_type": "stream",
     "text": [
      "Series 1:\n",
      "0     2\n",
      "1     4\n",
      "2     6\n",
      "3     8\n",
      "4    10\n",
      "dtype: int64\n",
      "\n",
      "Series 2:\n",
      "0    1\n",
      "1    3\n",
      "2    5\n",
      "3    7\n",
      "4    9\n",
      "dtype: int64\n",
      "\n",
      "Addition of Series 1 and Series 2:\n",
      "0     3\n",
      "1     7\n",
      "2    11\n",
      "3    15\n",
      "4    19\n",
      "dtype: int64\n",
      "\n",
      "Subtraction of Series 1 and Series 2:\n",
      "0    1\n",
      "1    1\n",
      "2    1\n",
      "3    1\n",
      "4    1\n",
      "dtype: int64\n",
      "\n",
      "Multiplication of Series 1 and Series 2:\n",
      "0     2\n",
      "1    12\n",
      "2    30\n",
      "3    56\n",
      "4    90\n",
      "dtype: int64\n",
      "\n",
      "Division of Series 1 and Series 2:\n",
      "0    2.000000\n",
      "1    1.333333\n",
      "2    1.200000\n",
      "3    1.142857\n",
      "4    1.111111\n",
      "dtype: float64\n"
     ]
    }
   ],
   "source": [
    "import pandas as pd\n",
    "series1 = pd.Series([2, 4, 6, 8, 10])\n",
    "series2 = pd.Series([1, 3, 5, 7, 9])\n",
    "\n",
    "# we can also do this using Pandas methods (add, subtract, multiply, divide).\n",
    "#using operator\n",
    "addition = series1 + series2\n",
    "\n",
    "subtraction = series1 - series2\n",
    "\n",
    "multiplication = series1 * series2\n",
    "\n",
    "division = series1 / series2\n",
    "\n",
    "print(\"Series 1:\")\n",
    "print(series1)\n",
    "print(\"\\nSeries 2:\")\n",
    "print(series2)\n",
    "print(\"\\nAddition of Series 1 and Series 2:\")\n",
    "print(addition)\n",
    "print(\"\\nSubtraction of Series 1 and Series 2:\")\n",
    "print(subtraction)\n",
    "print(\"\\nMultiplication of Series 1 and Series 2:\")\n",
    "print(multiplication)\n",
    "print(\"\\nDivision of Series 1 and Series 2:\")\n",
    "print(division)\n"
   ]
  },
  {
   "cell_type": "markdown",
   "id": "8ec3d9cb",
   "metadata": {},
   "source": [
    "## 4. Write a Python program to get the powers of an array values element-wise.\n",
    "Note: First array elements raised to powers from second array\n",
    "Expected Output:\n",
    "Original array\n",
    "[0 1 2 3 4 5 6]\n",
    "\n",
    "First array elements raised to powers from second array, element-wise:\n",
    "[ 0 1 8 27 64 125 216]"
   ]
  },
  {
   "cell_type": "code",
   "execution_count": 15,
   "id": "42f5e883",
   "metadata": {},
   "outputs": [
    {
     "name": "stdout",
     "output_type": "stream",
     "text": [
      "Method 1 - Using NumPy's power Function\n",
      "Original array:\n",
      "[0 1 2 3 4 5 6]\n",
      "\n",
      "First array elements raised to powers from second array, element-wise:\n",
      "[  0   1   8  27  64 125 216]\n"
     ]
    }
   ],
   "source": [
    "import numpy as np\n",
    "\n",
    "array1 = np.array([0, 1, 2, 3, 4, 5, 6])\n",
    "array2 = np.array([3, 3, 3, 3, 3, 3, 3])\n",
    "#Array element from first array is raised to the power of element from second element(all happens element-wise).\n",
    "result = np.power(array1, array2)\n",
    "\n",
    "print(\"Method 1 - Using NumPy's power Function\")\n",
    "print(\"Original array:\")\n",
    "print(array1)\n",
    "print(\"\\nFirst array elements raised to powers from second array, element-wise:\")\n",
    "print(result)\n"
   ]
  },
  {
   "cell_type": "code",
   "execution_count": null,
   "id": "f6255b94",
   "metadata": {},
   "outputs": [],
   "source": [
    "import numpy as np\n",
    "\n",
    "array1 = np.array([0, 1, 2, 3, 4, 5, 6])\n",
    "array2 = np.array([0, 1, 2, 3, 4, 5, 6])\n",
    "\n",
    "'''\n",
    "np.vectorize is intended to vectorize a Python function so it can handle NumPy arrays in an element-wise manner.\n",
    "This is particularly useful when dealing with functions that do not natively support array inputs.\n",
    "'''\n",
    "\n",
    "# Using np.vectorize to apply the power function element-wise\n",
    "power_function = np.vectorize(pow)\n",
    "result = power_function(array1, array2)\n",
    "\n",
    "print(\"Method 4 - Using NumPy's vectorize Function\")\n",
    "print(\"Original array:\")\n",
    "print(array1)\n",
    "print(\"\\nFirst array elements raised to powers from second array, element-wise:\")\n",
    "print(result)\n"
   ]
  },
  {
   "cell_type": "markdown",
   "id": "af7810cb",
   "metadata": {},
   "source": [
    "## 5. Write a Python program to create and display a DataFrame from a specified dictionary data which has the index labels.\n",
    "Sample Python dictionary data and list labels:"
   ]
  },
  {
   "cell_type": "code",
   "execution_count": 4,
   "id": "c87f20cc",
   "metadata": {},
   "outputs": [
    {
     "name": "stdout",
     "output_type": "stream",
     "text": [
      "Method 1 - Using pd.DataFrame Directly\n",
      "        name  score  attempts qualify\n",
      "a  Anastasia   12.5         1     yes\n",
      "b       Dima    9.0         3      no\n",
      "c  Katherine   16.5         2     yes\n",
      "d      James    NaN         3      no\n",
      "e      Emily    9.0         2      no\n",
      "f    Michael   20.0         3     yes\n",
      "g    Matthew   14.5         1     yes\n",
      "h      Laura    NaN         1      no\n",
      "i      Kevin    8.0         2      no\n",
      "j      Jonas   19.0         1     yes\n"
     ]
    }
   ],
   "source": [
    "import pandas as pd\n",
    "import numpy as np\n",
    "\n",
    "data = {\n",
    "    'name': ['Anastasia', 'Dima', 'Katherine', 'James', 'Emily', 'Michael','Matthew', 'Laura', 'Kevin', 'Jonas'],\n",
    "    'score': [12.5, 9, 16.5, np.nan, 9, 20, 14.5, np.nan, 8, 19],\n",
    "    'attempts': [1, 3, 2, 3, 2, 3, 1, 1, 2, 1],\n",
    "    'qualify': ['yes', 'no', 'yes', 'no', 'no', 'yes', 'yes', 'no', 'no', 'yes']\n",
    "}\n",
    "labels = ['a', 'b', 'c', 'd', 'e', 'f', 'g', 'h', 'i', 'j']\n",
    "\n",
    "df = pd.DataFrame(data, index=labels)\n",
    "\n",
    "print(\"Method 1 - Using pd.DataFrame Directly\")\n",
    "print(df)\n"
   ]
  },
  {
   "cell_type": "markdown",
   "id": "b379950a",
   "metadata": {},
   "source": [
    "## 6. Write a Python program to display a summary of the basic information about a specified Data Frame and its data.\n",
    "Sample Python dictionary data and list labels:<br>\n",
    "exam_data = {'name': ['Anastasia', 'Dima', 'Katherine', 'James', 'Emily', 'Michael', 'Matthew','Laura', 'Kevin', 'Jonas'],<br>\n",
    "'score': [12.5, 9, 16.5, np.nan, 9, 20, 14.5, np.nan, 8, 19],<br>\n",
    "'attempts': [1, 3, 2, 3, 2, 3, 1, 1, 2, 1],<br>\n",
    "'qualify': ['yes', 'no', 'yes', 'no', 'no', 'yes', 'yes', 'no', 'no', 'yes']}<br>\n",
    "labels = ['a', 'b', 'c', 'd', 'e', 'f', 'g', 'h', 'i', 'j']"
   ]
  },
  {
   "cell_type": "code",
   "execution_count": 8,
   "id": "cb7b9848",
   "metadata": {},
   "outputs": [
    {
     "name": "stdout",
     "output_type": "stream",
     "text": [
      " Using DataFrame.info()\n",
      "<class 'pandas.core.frame.DataFrame'>\n",
      "Index: 10 entries, a to j\n",
      "Data columns (total 4 columns):\n",
      " #   Column    Non-Null Count  Dtype  \n",
      "---  ------    --------------  -----  \n",
      " 0   name      10 non-null     object \n",
      " 1   score     8 non-null      float64\n",
      " 2   attempts  10 non-null     int64  \n",
      " 3   qualify   10 non-null     object \n",
      "dtypes: float64(1), int64(1), object(2)\n",
      "memory usage: 400.0+ bytes\n",
      "\n",
      "\n",
      " Using DataFrame.describe()\n",
      "           score   attempts\n",
      "count   8.000000  10.000000\n",
      "mean   13.562500   1.900000\n",
      "std     4.693746   0.875595\n",
      "min     8.000000   1.000000\n",
      "25%     9.000000   1.000000\n",
      "50%    13.500000   2.000000\n",
      "75%    17.125000   2.750000\n",
      "max    20.000000   3.000000\n",
      "\n",
      "\n",
      " Using DataFrame.describe(include='all')\n",
      "             name      score   attempts qualify\n",
      "count          10   8.000000  10.000000      10\n",
      "unique         10        NaN        NaN       2\n",
      "top     Anastasia        NaN        NaN     yes\n",
      "freq            1        NaN        NaN       5\n",
      "mean          NaN  13.562500   1.900000     NaN\n",
      "std           NaN   4.693746   0.875595     NaN\n",
      "min           NaN   8.000000   1.000000     NaN\n",
      "25%           NaN   9.000000   1.000000     NaN\n",
      "50%           NaN  13.500000   2.000000     NaN\n",
      "75%           NaN  17.125000   2.750000     NaN\n",
      "max           NaN  20.000000   3.000000     NaN\n"
     ]
    }
   ],
   "source": [
    "import numpy as np\n",
    "import pandas as pd\n",
    "\n",
    "exam_data = {\n",
    "    'name': ['Anastasia', 'Dima', 'Katherine', 'James', 'Emily', 'Michael', 'Matthew', 'Laura', 'Kevin', 'Jonas'],\n",
    "    'score': [12.5, 9, 16.5, np.nan, 9, 20, 14.5, np.nan, 8, 19],\n",
    "    'attempts': [1, 3, 2, 3, 2, 3, 1, 1, 2, 1],\n",
    "    'qualify': ['yes', 'no', 'yes', 'no', 'no', 'yes', 'yes', 'no', 'no', 'yes']\n",
    "}\n",
    "labels = ['a', 'b', 'c', 'd', 'e', 'f', 'g', 'h', 'i', 'j']\n",
    "\n",
    "df = pd.DataFrame(exam_data, index=labels)\n",
    "\n",
    "print(\" Using DataFrame.info()\")\n",
    "df.info()\n",
    "print()\n",
    "print(\"\\n Using DataFrame.describe()\")\n",
    "print(df.describe())\n",
    "print()\n",
    "print(\"\\n Using DataFrame.describe(include='all')\")\n",
    "print(df.describe(include='all'))"
   ]
  },
  {
   "cell_type": "markdown",
   "id": "8ee6ae78",
   "metadata": {},
   "source": [
    "## 7. Write a Python program to get the first 3 rows of a given DataFrame.\n",
    "Sample Python dictionary data and list labels:<br>\n",
    "exam_data = {'name': ['Anastasia', 'Dima', 'Katherine', 'James', 'Emily', 'Michael', 'Matthew',\n",
    "'Laura', 'Kevin', 'Jonas'],\n",
    "'score': [12.5, 9, 16.5, np.nan, 9, 20, 14.5, np.nan, 8, 19],<br>\n",
    "'attempts': [1, 3, 2, 3, 2, 3, 1, 1, 2, 1],<br>\n",
    "'qualify': ['yes', 'no', 'yes', 'no', 'no', 'yes', 'yes', 'no', 'no', 'yes']}<br>\n",
    "labels = ['a', 'b', 'c', 'd', 'e', 'f', 'g', 'h', 'i', 'j']<br>"
   ]
  },
  {
   "cell_type": "code",
   "execution_count": 10,
   "id": "d17c13ea",
   "metadata": {},
   "outputs": [
    {
     "name": "stdout",
     "output_type": "stream",
     "text": [
      " Using head()\n",
      "        name  score  attempts qualify\n",
      "a  Anastasia   12.5         1     yes\n",
      "b       Dima    9.0         3      no\n",
      "c  Katherine   16.5         2     yes\n",
      "\n",
      " Using Slicing\n",
      "        name  score  attempts qualify\n",
      "a  Anastasia   12.5         1     yes\n",
      "b       Dima    9.0         3      no\n",
      "c  Katherine   16.5         2     yes\n",
      "\n",
      " Using iloc\n",
      "        name  score  attempts qualify\n",
      "a  Anastasia   12.5         1     yes\n",
      "b       Dima    9.0         3      no\n",
      "c  Katherine   16.5         2     yes\n"
     ]
    }
   ],
   "source": [
    "import numpy as np\n",
    "import pandas as pd\n",
    "\n",
    "exam_data = {\n",
    "    'name': ['Anastasia', 'Dima', 'Katherine', 'James', 'Emily', 'Michael', 'Matthew', 'Laura', 'Kevin', 'Jonas'],\n",
    "    'score': [12.5, 9, 16.5, np.nan, 9, 20, 14.5, np.nan, 8, 19],\n",
    "    'attempts': [1, 3, 2, 3, 2, 3, 1, 1, 2, 1],\n",
    "    'qualify': ['yes', 'no', 'yes', 'no', 'no', 'yes', 'yes', 'no', 'no', 'yes']\n",
    "}\n",
    "labels = ['a', 'b', 'c', 'd', 'e', 'f', 'g', 'h', 'i', 'j']\n",
    "\n",
    "\n",
    "df = pd.DataFrame(exam_data, index=labels)\n",
    "\n",
    "\n",
    "first_three_rows = df.head(3)\n",
    "print(\" Using head()\")\n",
    "print(first_three_rows)\n",
    "\n",
    "first_three_rows = df[:3]\n",
    "print(\"\\n Using Slicing\")\n",
    "print(first_three_rows)\n",
    "\n",
    "first_three_rows = df.iloc[:3]\n",
    "print(\"\\n Using iloc\")\n",
    "print(first_three_rows)"
   ]
  },
  {
   "cell_type": "markdown",
   "id": "3ed787de",
   "metadata": {},
   "source": [
    "## 8. Write a Python program to select the 'name' and 'score' columns from the following DataFrame.\n",
    "Sample Python dictionary data and list labels:<br>\n",
    "exam_data = {'name': ['Anastasia', 'Dima', 'Katherine', 'James', 'Emily', 'Michael', 'Matthew',\n",
    "'Laura', 'Kevin', 'Jonas'],\n",
    "'score': [12.5, 9, 16.5, np.nan, 9, 20, 14.5, np.nan, 8, 19],\n",
    "'attempts': [1, 3, 2, 3, 2, 3, 1, 1, 2, 1],\n",
    "'qualify': ['yes', 'no', 'yes', 'no', 'no', 'yes', 'yes', 'no', 'no', 'yes']}"
   ]
  },
  {
   "cell_type": "code",
   "execution_count": 11,
   "id": "f41849b0",
   "metadata": {},
   "outputs": [
    {
     "name": "stdout",
     "output_type": "stream",
     "text": [
      " Using Column Selection with Double Brackets\n",
      "        name  score\n",
      "a  Anastasia   12.5\n",
      "b       Dima    9.0\n",
      "c  Katherine   16.5\n",
      "d      James    NaN\n",
      "e      Emily    9.0\n",
      "f    Michael   20.0\n",
      "g    Matthew   14.5\n",
      "h      Laura    NaN\n",
      "i      Kevin    8.0\n",
      "j      Jonas   19.0\n",
      "\n",
      " Using loc for Label-based Indexing\n",
      "        name  score\n",
      "a  Anastasia   12.5\n",
      "b       Dima    9.0\n",
      "c  Katherine   16.5\n",
      "d      James    NaN\n",
      "e      Emily    9.0\n",
      "f    Michael   20.0\n",
      "g    Matthew   14.5\n",
      "h      Laura    NaN\n",
      "i      Kevin    8.0\n",
      "j      Jonas   19.0\n"
     ]
    }
   ],
   "source": [
    "import numpy as np\n",
    "import pandas as pd\n",
    "\n",
    "exam_data = {\n",
    "    'name': ['Anastasia', 'Dima', 'Katherine', 'James', 'Emily', 'Michael', 'Matthew', 'Laura', 'Kevin', 'Jonas'],\n",
    "    'score': [12.5, 9, 16.5, np.nan, 9, 20, 14.5, np.nan, 8, 19],\n",
    "    'attempts': [1, 3, 2, 3, 2, 3, 1, 1, 2, 1],\n",
    "    'qualify': ['yes', 'no', 'yes', 'no', 'no', 'yes', 'yes', 'no', 'no', 'yes']\n",
    "}\n",
    "labels = ['a', 'b', 'c', 'd', 'e', 'f', 'g', 'h', 'i', 'j']\n",
    "\n",
    "df = pd.DataFrame(exam_data, index=labels)\n",
    "\n",
    "\n",
    "selected_columns = df[['name', 'score']]\n",
    "print(\" Using Column Selection with Double Brackets\")\n",
    "print(selected_columns)\n",
    "\n",
    "\n",
    "selected_columns = df.loc[:, ['name', 'score']]\n",
    "print(\"\\n Using loc for Label-based Indexing\")\n",
    "print(selected_columns)\n",
    "\n"
   ]
  },
  {
   "cell_type": "markdown",
   "id": "2942e71d",
   "metadata": {},
   "source": [
    "## 9. Write a Python program to select the specified columns and rows from a given data frame.\n",
    "Select 'name' and 'score' columns in rows 1, 3, 5, 6 from the following data frame.<br>\n",
    "exam_data = {'name': ['Anastasia', 'Dima', 'Katherine', 'James', 'Emily', 'Michael', 'Matthew', 'Laura', 'Kevin', 'Jonas'],<br>\n",
    "'score': [12.5, 9, 16.5, np.nan, 9, 20, 14.5, np.nan, 8, 19],<br>\n",
    "'attempts': [1, 3, 2, 3, 2, 3, 1, 1, 2, 1],<br>\n",
    "'qualify': ['yes', 'no', 'yes', 'no', 'no', 'yes', 'yes', 'no', 'no', 'yes']}<br>\n",
    "labels = ['a', 'b', 'c', 'd', 'e', 'f', 'g', 'h', 'i', 'j']<br>"
   ]
  },
  {
   "cell_type": "code",
   "execution_count": 16,
   "id": "0392f02d",
   "metadata": {},
   "outputs": [
    {
     "name": "stdout",
     "output_type": "stream",
     "text": [
      " Using loc\n",
      "      name  score\n",
      "b     Dima    9.0\n",
      "d    James    NaN\n",
      "f  Michael   20.0\n",
      "g  Matthew   14.5\n",
      "\n",
      " Using iloc with Integer Positions\n",
      "      name  score\n",
      "b     Dima    9.0\n",
      "d    James    NaN\n",
      "f  Michael   20.0\n",
      "g  Matthew   14.5\n"
     ]
    }
   ],
   "source": [
    "import numpy as np\n",
    "import pandas as pd\n",
    "\n",
    "exam_data = {\n",
    "    'name': ['Anastasia', 'Dima', 'Katherine', 'James', 'Emily', 'Michael', 'Matthew', 'Laura', 'Kevin', 'Jonas'],\n",
    "    'score': [12.5, 9, 16.5, np.nan, 9, 20, 14.5, np.nan, 8, 19],\n",
    "    'attempts': [1, 3, 2, 3, 2, 3, 1, 1, 2, 1],\n",
    "    'qualify': ['yes', 'no', 'yes', 'no', 'no', 'yes', 'yes', 'no', 'no', 'yes']\n",
    "}\n",
    "labels = ['a', 'b', 'c', 'd', 'e', 'f', 'g', 'h', 'i', 'j']\n",
    "\n",
    "df = pd.DataFrame(exam_data, index=labels)\n",
    "\n",
    "# Using loc\n",
    "selected_data = df.loc[['b', 'd', 'f', 'g'], ['name', 'score']]\n",
    "print(\" Using loc\")\n",
    "print(selected_data)\n",
    "\n",
    "#takes location of name and score coloum and use as input to iloc\n",
    "selected_data = df.iloc[[1, 3, 5, 6], [df.columns.get_loc('name'), df.columns.get_loc('score')]]\n",
    "print(\"\\n Using iloc with Integer Positions\")\n",
    "print(selected_data)\n",
    "\n"
   ]
  },
  {
   "cell_type": "markdown",
   "id": "c61ca11b",
   "metadata": {},
   "source": [
    "## 10. Write a Python program to select the rows where the number of attempts in the examination is greater than 2.\n",
    "exam_data = {'name': ['Anastasia', 'Dima', 'Katherine', 'James', 'Emily', 'Michael', 'Matthew','Laura', 'Kevin', 'Jonas'],<br>\n",
    "'score': [12.5, 9, 16.5, np.nan, 9, 20, 14.5, np.nan, 8, 19],<br>\n",
    "'attempts': [1, 3, 2, 3, 2, 3, 1, 1, 2, 1],<br>\n",
    "'qualify': ['yes', 'no', 'yes', 'no', 'no', 'yes', 'yes', 'no', 'no', 'yes']}<br>\n",
    "labels = ['a', 'b', 'c', 'd', 'e', 'f', 'g', 'h', 'i', 'j']<br>"
   ]
  },
  {
   "cell_type": "code",
   "execution_count": 18,
   "id": "4edffe41",
   "metadata": {},
   "outputs": [
    {
     "name": "stdout",
     "output_type": "stream",
     "text": [
      " Using Boolean Indexing\n",
      "      name  score  attempts qualify\n",
      "b     Dima    9.0         3      no\n",
      "d    James    NaN         3      no\n",
      "f  Michael   20.0         3     yes\n",
      "\n",
      "Using query\n",
      "      name  score  attempts qualify\n",
      "b     Dima    9.0         3      no\n",
      "d    James    NaN         3      no\n",
      "f  Michael   20.0         3     yes\n",
      "\n",
      " Using apply Method\n",
      "      name  score  attempts qualify\n",
      "b     Dima    9.0         3      no\n",
      "d    James    NaN         3      no\n",
      "f  Michael   20.0         3     yes\n"
     ]
    }
   ],
   "source": [
    "import numpy as np\n",
    "import pandas as pd\n",
    "\n",
    "exam_data = {\n",
    "    'name': ['Anastasia', 'Dima', 'Katherine', 'James', 'Emily', 'Michael', 'Matthew', 'Laura', 'Kevin', 'Jonas'],\n",
    "    'score': [12.5, 9, 16.5, np.nan, 9, 20, 14.5, np.nan, 8, 19],\n",
    "    'attempts': [1, 3, 2, 3, 2, 3, 1, 1, 2, 1],\n",
    "    'qualify': ['yes', 'no', 'yes', 'no', 'no', 'yes', 'yes', 'no', 'no', 'yes']\n",
    "}\n",
    "labels = ['a', 'b', 'c', 'd', 'e', 'f', 'g', 'h', 'i', 'j']\n",
    "\n",
    "df = pd.DataFrame(exam_data, index=labels)\n",
    "\n",
    "\n",
    "attempts_gt_2 = df[df['attempts'] > 2]\n",
    "print(\" Using Boolean Indexing\")\n",
    "print(attempts_gt_2)\n",
    "\n",
    "attempts_gt_2 = df.query('attempts > 2')\n",
    "print(\"\\nUsing query\")\n",
    "print(attempts_gt_2)\n",
    "\n",
    "'''\n",
    "The apply method in Pandas is a versatile function that allows you to apply a function along an axis of a DataFrame or Series.\n",
    "It's particularly useful for performing element-wise operations and transformations\n",
    "'''\n",
    "attempts_gt_2 = df[df['attempts'].apply(lambda x: x > 2)]\n",
    "print(\"\\n Using apply Method\")\n",
    "print(attempts_gt_2)\n",
    "\n"
   ]
  },
  {
   "cell_type": "markdown",
   "id": "a74eef2c",
   "metadata": {},
   "source": [
    "## 11. Write a Python program to count the number of rows and columns of a DataFrame.\n",
    "Sample data:\n",
    "exam_data = {'name': ['Anastasia', 'Dima', 'Katherine', 'James', 'Emily', 'Michael', 'Matthew','Laura', 'Kevin', 'Jonas'],<br>\n",
    "'score': [12.5, 9, 16.5, np.nan, 9, 20, 14.5, np.nan, 8, 19],<br>\n",
    "'attempts': [1, 3, 2, 3, 2, 3, 1, 1, 2, 1],<br>\n",
    "'qualify': ['yes', 'no', 'yes', 'no', 'no', 'yes', 'yes', 'no', 'no', 'yes']}<br>\n",
    "labels = ['a', 'b', 'c', 'd', 'e', 'f', 'g', 'h', 'i', 'j']<br>"
   ]
  },
  {
   "cell_type": "code",
   "execution_count": 19,
   "id": "44df7bd6",
   "metadata": {},
   "outputs": [
    {
     "name": "stdout",
     "output_type": "stream",
     "text": [
      " Using shape\n",
      "Number of rows: 10\n",
      "Number of columns: 4\n",
      "\n",
      " Using len() on Indexes and Columns\n",
      "Number of rows: 10\n",
      "Number of columns: 4\n",
      "\n",
      "Using info() Method\n",
      "<class 'pandas.core.frame.DataFrame'>\n",
      "Index: 10 entries, a to j\n",
      "Data columns (total 4 columns):\n",
      " #   Column    Non-Null Count  Dtype  \n",
      "---  ------    --------------  -----  \n",
      " 0   name      10 non-null     object \n",
      " 1   score     8 non-null      float64\n",
      " 2   attempts  10 non-null     int64  \n",
      " 3   qualify   10 non-null     object \n",
      "dtypes: float64(1), int64(1), object(2)\n",
      "memory usage: 400.0+ bytes\n"
     ]
    }
   ],
   "source": [
    "import numpy as np\n",
    "import pandas as pd\n",
    "\n",
    "exam_data = {\n",
    "    'name': ['Anastasia', 'Dima', 'Katherine', 'James', 'Emily', 'Michael', 'Matthew', 'Laura', 'Kevin', 'Jonas'],\n",
    "    'score': [12.5, 9, 16.5, np.nan, 9, 20, 14.5, np.nan, 8, 19],\n",
    "    'attempts': [1, 3, 2, 3, 2, 3, 1, 1, 2, 1],\n",
    "    'qualify': ['yes', 'no', 'yes', 'no', 'no', 'yes', 'yes', 'no', 'no', 'yes']\n",
    "}\n",
    "labels = ['a', 'b', 'c', 'd', 'e', 'f', 'g', 'h', 'i', 'j']\n",
    "\n",
    "df = pd.DataFrame(exam_data, index=labels)\n",
    "\n",
    "\n",
    "num_rows, num_columns = df.shape\n",
    "print(\" Using shape\")\n",
    "print(f\"Number of rows: {num_rows}\")\n",
    "print(f\"Number of columns: {num_columns}\")\n",
    "\n",
    "\n",
    "num_rows = len(df.index)\n",
    "num_columns = len(df.columns)\n",
    "print(\"\\n Using len() on Indexes and Columns\")\n",
    "print(f\"Number of rows: {num_rows}\")\n",
    "print(f\"Number of columns: {num_columns}\")\n",
    "\n",
    "\n",
    "print(\"\\nUsing info() Method\")\n",
    "df_info = df.info()"
   ]
  },
  {
   "cell_type": "markdown",
   "id": "0638e667",
   "metadata": {},
   "source": [
    "## 12. Write a Python program to select the rows where the score is missing, i.e. is NaN.\n",
    "exam_data = {'name': ['Anastasia', 'Dima', 'Katherine', 'James', 'Emily', 'Michael', 'Matthew','Laura', 'Kevin', 'Jonas'],<br>\n",
    "'score': [12.5, 9, 16.5, np.nan, 9, 20, 14.5, np.nan, 8, 19],<br>\n",
    "'attempts': [1, 3, 2, 3, 2, 3, 1, 1, 2, 1],<br>\n",
    "'qualify': ['yes', 'no', 'yes', 'no', 'no', 'yes', 'yes', 'no', 'no', 'yes']}<br>\n",
    "labels = ['a', 'b', 'c', 'd', 'e', 'f', 'g', 'h', 'i', 'j']<br>"
   ]
  },
  {
   "cell_type": "code",
   "execution_count": 20,
   "id": "c917d457",
   "metadata": {},
   "outputs": [
    {
     "name": "stdout",
     "output_type": "stream",
     "text": [
      " Using isna()\n",
      "    name  score  attempts qualify\n",
      "d  James    NaN         3      no\n",
      "h  Laura    NaN         1      no\n",
      "\n",
      " Using isnull()\n",
      "    name  score  attempts qualify\n",
      "d  James    NaN         3      no\n",
      "h  Laura    NaN         1      no\n"
     ]
    }
   ],
   "source": [
    "import numpy as np\n",
    "import pandas as pd\n",
    "\n",
    "exam_data = {\n",
    "    'name': ['Anastasia', 'Dima', 'Katherine', 'James', 'Emily', 'Michael', 'Matthew', 'Laura', 'Kevin', 'Jonas'],\n",
    "    'score': [12.5, 9, 16.5, np.nan, 9, 20, 14.5, np.nan, 8, 19],\n",
    "    'attempts': [1, 3, 2, 3, 2, 3, 1, 1, 2, 1],\n",
    "    'qualify': ['yes', 'no', 'yes', 'no', 'no', 'yes', 'yes', 'no', 'no', 'yes']\n",
    "}\n",
    "labels = ['a', 'b', 'c', 'd', 'e', 'f', 'g', 'h', 'i', 'j']\n",
    "\n",
    "df = pd.DataFrame(exam_data, index=labels)\n",
    "\n",
    "\n",
    "rows_with_missing_scores = df[df['score'].isna()]\n",
    "print(\" Using isna()\")\n",
    "print(rows_with_missing_scores)\n",
    "\n",
    "\n",
    "\n",
    "rows_with_missing_scores = df[df['score'].isnull()]\n",
    "print(\"\\n Using isnull()\")\n",
    "print(rows_with_missing_scores)\n"
   ]
  },
  {
   "cell_type": "markdown",
   "id": "816dbfd5",
   "metadata": {},
   "source": [
    "## 13. Write a Python program to select the rows where number of attempts in the examination is less than 2 and score greater than 15."
   ]
  },
  {
   "cell_type": "code",
   "execution_count": 21,
   "id": "7c2ace8c",
   "metadata": {},
   "outputs": [
    {
     "name": "stdout",
     "output_type": "stream",
     "text": [
      "Method 1 - Using Boolean Indexing\n",
      "    name  score  attempts qualify\n",
      "j  Jonas   19.0         1     yes\n",
      "\n",
      "Method 2 - Using query() Method\n",
      "    name  score  attempts qualify\n",
      "j  Jonas   19.0         1     yes\n"
     ]
    }
   ],
   "source": [
    "import numpy as np\n",
    "import pandas as pd\n",
    "\n",
    "exam_data = {\n",
    "    'name': ['Anastasia', 'Dima', 'Katherine', 'James', 'Emily', 'Michael', 'Matthew', 'Laura', 'Kevin', 'Jonas'],\n",
    "    'score': [12.5, 9, 16.5, np.nan, 9, 20, 14.5, np.nan, 8, 19],\n",
    "    'attempts': [1, 3, 2, 3, 2, 3, 1, 1, 2, 1],\n",
    "    'qualify': ['yes', 'no', 'yes', 'no', 'no', 'yes', 'yes', 'no', 'no', 'yes']\n",
    "}\n",
    "labels = ['a', 'b', 'c', 'd', 'e', 'f', 'g', 'h', 'i', 'j']\n",
    "\n",
    "df = pd.DataFrame(exam_data, index=labels)\n",
    "\n",
    "\n",
    "\n",
    "filtered_rows = df[(df['attempts'] < 2) & (df['score'] > 15)]\n",
    "print(\"Method 1 - Using Boolean Indexing\")\n",
    "print(filtered_rows)\n",
    "\n",
    "\n",
    "\n",
    "filtered_rows = df.query('attempts < 2 and score > 15')\n",
    "print(\"\\nMethod 2 - Using query() Method\")\n",
    "print(filtered_rows)\n"
   ]
  },
  {
   "cell_type": "markdown",
   "id": "00b8a70b",
   "metadata": {},
   "source": [
    "## 14. Write a Python program to change the score in row 'd' to 11.5."
   ]
  },
  {
   "cell_type": "code",
   "execution_count": 32,
   "id": "9c27c951",
   "metadata": {},
   "outputs": [
    {
     "name": "stdout",
     "output_type": "stream",
     "text": [
      " Using .loc Indexer\n",
      "        name  score  attempts qualify\n",
      "a  Anastasia   12.5         1     yes\n",
      "b       Dima    9.0         3      no\n",
      "c  Katherine   16.5         2     yes\n",
      "d      James   11.5         3      no\n",
      "e      Emily    9.0         2      no\n",
      "f    Michael   20.0         3     yes\n",
      "g    Matthew   14.5         1     yes\n",
      "h      Laura    NaN         1      no\n",
      "i      Kevin    8.0         2      no\n",
      "j      Jonas   19.0         1     yes\n",
      "\n",
      " Using .at Indexer\n",
      "        name  score  attempts qualify\n",
      "a  Anastasia   12.5         1     yes\n",
      "b       Dima    9.0         3      no\n",
      "c  Katherine   16.5         2     yes\n",
      "d      James   11.5         3      no\n",
      "e      Emily    9.0         2      no\n",
      "f    Michael   20.0         3     yes\n",
      "g    Matthew   14.5         1     yes\n",
      "h      Laura    NaN         1      no\n",
      "i      Kevin    8.0         2      no\n",
      "j      Jonas   19.0         1     yes\n"
     ]
    }
   ],
   "source": [
    "import numpy as np\n",
    "import pandas as pd\n",
    "\n",
    "exam_data = {\n",
    "    'name': ['Anastasia', 'Dima', 'Katherine', 'James', 'Emily', 'Michael', 'Matthew', 'Laura', 'Kevin', 'Jonas'],\n",
    "    'score': [12.5, 9, 16.5, np.nan, 9, 20, 14.5, np.nan, 8, 19],\n",
    "    'attempts': [1, 3, 2, 3, 2, 3, 1, 1, 2, 1],\n",
    "    'qualify': ['yes', 'no', 'yes', 'no', 'no', 'yes', 'yes', 'no', 'no', 'yes']\n",
    "}\n",
    "labels = ['a', 'b', 'c', 'd', 'e', 'f', 'g', 'h', 'i', 'j']\n",
    "\n",
    "df = pd.DataFrame(exam_data, index=labels)\n",
    "\n",
    "\n",
    "df.loc['d', 'score'] = 11.5\n",
    "print(\" Using .loc Indexer\")\n",
    "print(df)\n",
    "\n",
    "'''\n",
    "Label-Based Access: .at allows you to access or modify a specific value using \n",
    "row and column labels. It is designed for quick retrieval or assignment of a single value.\n",
    "'''\n",
    "df.at['d', 'score'] = 11.5\n",
    "print(\"\\n Using .at Indexer\")\n",
    "print(df)\n"
   ]
  },
  {
   "cell_type": "markdown",
   "id": "d9180058",
   "metadata": {},
   "source": [
    "## 15. Write a Python program to calculate the sum of the examination attempts by the students."
   ]
  },
  {
   "cell_type": "code",
   "execution_count": 3,
   "id": "6594ebdf",
   "metadata": {},
   "outputs": [
    {
     "name": "stdout",
     "output_type": "stream",
     "text": [
      "Using .sum() Method\n",
      "Total number of examination attempts: 19\n",
      "\n",
      "Using sum() Function \n",
      "Total number of examination attempts: 19\n",
      "\n",
      "Using agg() Method\n",
      "Total number of examination attempts: 19\n"
     ]
    }
   ],
   "source": [
    "import numpy as np\n",
    "import pandas as pd\n",
    "exam_data = {\n",
    "    'name': ['Anastasia', 'Dima', 'Katherine', 'James', 'Emily', 'Michael', 'Matthew', 'Laura', 'Kevin', 'Jonas'],\n",
    "    'score': [12.5, 9, 16.5, np.nan, 9, 20, 14.5, np.nan, 8, 19],\n",
    "    'attempts': [1, 3, 2, 3, 2, 3, 1, 1, 2, 1],\n",
    "    'qualify': ['yes', 'no', 'yes', 'no', 'no', 'yes', 'yes', 'no', 'no', 'yes']\n",
    "}\n",
    "labels = ['a', 'b', 'c', 'd', 'e', 'f', 'g', 'h', 'i', 'j']\n",
    "\n",
    "df = pd.DataFrame(exam_data, index=labels)\n",
    "\n",
    "\n",
    "\n",
    "total_attempts = df['attempts'].sum()\n",
    "print(\"Using .sum() Method\")\n",
    "print(\"Total number of examination attempts:\", total_attempts)\n",
    "\n",
    "\n",
    "\n",
    "total_attempts = sum(df['attempts'])\n",
    "print(\"\\nUsing sum() Function \")\n",
    "print(\"Total number of examination attempts:\", total_attempts)\n",
    "\n",
    "\n",
    "'''\n",
    "The agg() method allows you to apply a function or a list of function names to be\n",
    "executed along one of the axis of the DataFrame, default 0, which is the index (row) axis.\n",
    "Note: the agg() method is an alias of the aggregate() method.\n",
    "Syntax\n",
    "dataframe.agg(func, axis, args, kwargs)\n",
    "'''\n",
    "total_attempts = df['attempts'].agg('sum')\n",
    "print(\"\\nUsing agg() Method\")\n",
    "print(\"Total number of examination attempts:\", total_attempts)\n"
   ]
  },
  {
   "cell_type": "markdown",
   "id": "0124b166",
   "metadata": {},
   "source": [
    "## 16. Write a Python program to calculate the mean score for each different student in DataFrame."
   ]
  },
  {
   "cell_type": "code",
   "execution_count": 5,
   "id": "411c11fd",
   "metadata": {},
   "outputs": [
    {
     "name": "stdout",
     "output_type": "stream",
     "text": [
      "Mean Score Calculation:\n",
      "Mean score for all students: 13.5625\n"
     ]
    }
   ],
   "source": [
    "import numpy as np\n",
    "import pandas as pd\n",
    "\n",
    "# Creating the DataFrame\n",
    "exam_data = {\n",
    "    'name': ['Anastasia', 'Dima', 'Katherine', 'James', 'Emily', 'Michael', 'Matthew', 'Laura', 'Kevin', 'Jonas'],\n",
    "    'score': [12.5, 9, 16.5, np.nan, 9, 20, 14.5, np.nan, 8, 19],\n",
    "    'attempts': [1, 3, 2, 3, 2, 3, 1, 1, 2, 1],\n",
    "    'qualify': ['yes', 'no', 'yes', 'no', 'no', 'yes', 'yes', 'no', 'no', 'yes']\n",
    "}\n",
    "labels = ['a', 'b', 'c', 'd', 'e', 'f', 'g', 'h', 'i', 'j']\n",
    "\n",
    "df = pd.DataFrame(exam_data, index=labels)\n",
    "\n",
    "mean_score = df['score'].mean()\n",
    "print(\"Mean Score Calculation:\")\n",
    "print(\"Mean score for all students:\", mean_score)\n"
   ]
  },
  {
   "cell_type": "code",
   "execution_count": 31,
   "id": "159aa6dc",
   "metadata": {},
   "outputs": [
    {
     "name": "stdout",
     "output_type": "stream",
     "text": [
      "DataFrame with Mean Scores:\n",
      "        name  score1  score2  mean_score\n",
      "a  Anastasia    12.5      11       11.75\n",
      "b       Dima     9.0      14       11.50\n",
      "c  Katherine    16.5      15       15.75\n",
      "d      James     NaN      13       13.00\n",
      "e      Emily     9.0      12       10.50\n",
      "f    Michael    20.0      18       19.00\n",
      "g    Matthew    14.5      16       15.25\n",
      "h      Laura     NaN      17       17.00\n",
      "i      Kevin     8.0      14       11.00\n",
      "j      Jonas    19.0      20       19.50\n"
     ]
    }
   ],
   "source": [
    "data = {\n",
    "    'name': ['Anastasia', 'Dima', 'Katherine', 'James', 'Emily', 'Michael', 'Matthew', 'Laura', 'Kevin', 'Jonas'],\n",
    "    'score1': [12.5, 9, 16.5, np.nan, 9, 20, 14.5, np.nan, 8, 19],\n",
    "    'score2': [11, 14, 15, 13, 12, 18, 16, 17, 14, 20]  # Random values for demonstration\n",
    "}\n",
    "labels = ['a', 'b', 'c', 'd', 'e', 'f', 'g', 'h', 'i', 'j']\n",
    "\n",
    "df = pd.DataFrame(data, index=labels)\n",
    "\n",
    "df['mean_score'] = df[['score1', 'score2']].mean(axis=1)\n",
    "\n",
    "print(\"DataFrame with Mean Scores:\")\n",
    "print(df)"
   ]
  },
  {
   "cell_type": "markdown",
   "id": "fdf89975",
   "metadata": {},
   "source": [
    "## 17. Write a Python program to append a new row 'k' to data frame with given values for each column. Now delete the new row and return the original DataFrame."
   ]
  },
  {
   "cell_type": "code",
   "execution_count": 11,
   "id": "fc17a73e",
   "metadata": {},
   "outputs": [
    {
     "name": "stdout",
     "output_type": "stream",
     "text": [
      "Original DataFrame:\n",
      "        name  score  attempts qualify\n",
      "a  Anastasia   12.5         1     yes\n",
      "b       Dima    9.0         3      no\n",
      "c  Katherine   16.5         2     yes\n",
      "d      James    NaN         3      no\n",
      "e      Emily    9.0         2      no\n",
      "f    Michael   20.0         3     yes\n",
      "g    Matthew   14.5         1     yes\n",
      "h      Laura    NaN         1      no\n",
      "i      Kevin    8.0         2      no\n",
      "j      Jonas   19.0         1     yes\n",
      "\n",
      "DataFrame After Appending New Row 'k':\n",
      "        name  score  attempts qualify\n",
      "a  Anastasia   12.5         1     yes\n",
      "b       Dima    9.0         3      no\n",
      "c  Katherine   16.5         2     yes\n",
      "d      James    NaN         3      no\n",
      "e      Emily    9.0         2      no\n",
      "f    Michael   20.0         3     yes\n",
      "g    Matthew   14.5         1     yes\n",
      "h      Laura    NaN         1      no\n",
      "i      Kevin    8.0         2      no\n",
      "j      Jonas   19.0         1     yes\n",
      "k     Suresh   15.5         1     yes\n",
      "\n",
      "DataFrame After Deleting Row 'k':\n",
      "        name  score  attempts qualify\n",
      "a  Anastasia   12.5         1     yes\n",
      "b       Dima    9.0         3      no\n",
      "c  Katherine   16.5         2     yes\n",
      "d      James    NaN         3      no\n",
      "e      Emily    9.0         2      no\n",
      "f    Michael   20.0         3     yes\n",
      "g    Matthew   14.5         1     yes\n",
      "h      Laura    NaN         1      no\n",
      "i      Kevin    8.0         2      no\n",
      "j      Jonas   19.0         1     yes\n"
     ]
    }
   ],
   "source": [
    "import numpy as np\n",
    "import pandas as pd\n",
    "\n",
    "exam_data = {\n",
    "    'name': ['Anastasia', 'Dima', 'Katherine', 'James', 'Emily', 'Michael', 'Matthew', 'Laura', 'Kevin', 'Jonas'],\n",
    "    'score': [12.5, 9, 16.5, np.nan, 9, 20, 14.5, np.nan, 8, 19],\n",
    "    'attempts': [1, 3, 2, 3, 2, 3, 1, 1, 2, 1],\n",
    "    'qualify': ['yes', 'no', 'yes', 'no', 'no', 'yes', 'yes', 'no', 'no', 'yes']\n",
    "}\n",
    "labels = ['a', 'b', 'c', 'd', 'e', 'f', 'g', 'h', 'i', 'j']\n",
    "\n",
    "df = pd.DataFrame(exam_data, index=labels)\n",
    "print(\"Original DataFrame:\")\n",
    "print(df)\n",
    "\n",
    "new_row = pd.DataFrame({'name': ['Suresh'], 'score': [15.5], 'attempts': [1], 'qualify': ['yes']}, index=['k'])\n",
    "\n",
    "\n",
    "df_with_new_row = pd.concat([df, new_row])\n",
    "print(\"\\nDataFrame After Appending New Row 'k':\")\n",
    "print(df_with_new_row)\n",
    "\n",
    "\n",
    "df_original = df_with_new_row.drop('k')\n",
    "print(\"\\nDataFrame After Deleting Row 'k':\")\n",
    "print(df_original)\n"
   ]
  },
  {
   "cell_type": "code",
   "execution_count": 10,
   "id": "0f3db28d",
   "metadata": {
    "scrolled": true
   },
   "outputs": [
    {
     "name": "stdout",
     "output_type": "stream",
     "text": [
      "Original DataFrame:\n",
      "        name  score  attempts qualify\n",
      "a  Anastasia   12.5         1     yes\n",
      "b       Dima    9.0         3      no\n",
      "c  Katherine   16.5         2     yes\n",
      "d      James    NaN         3      no\n",
      "e      Emily    9.0         2      no\n",
      "f    Michael   20.0         3     yes\n",
      "g    Matthew   14.5         1     yes\n",
      "h      Laura    NaN         1      no\n",
      "i      Kevin    8.0         2      no\n",
      "j      Jonas   19.0         1     yes\n",
      "\n",
      "DataFrame After Appending New Row 'k':\n",
      "        name  score  attempts qualify\n",
      "a  Anastasia   12.5         1     yes\n",
      "b       Dima    9.0         3      no\n",
      "c  Katherine   16.5         2     yes\n",
      "d      James    NaN         3      no\n",
      "e      Emily    9.0         2      no\n",
      "f    Michael   20.0         3     yes\n",
      "g    Matthew   14.5         1     yes\n",
      "h      Laura    NaN         1      no\n",
      "i      Kevin    8.0         2      no\n",
      "j      Jonas   19.0         1     yes\n",
      "k     Suresh   15.5         1     yes\n",
      "\n",
      "DataFrame After Deleting Row 'k':\n",
      "        name  score  attempts qualify\n",
      "a  Anastasia   12.5         1     yes\n",
      "b       Dima    9.0         3      no\n",
      "c  Katherine   16.5         2     yes\n",
      "d      James    NaN         3      no\n",
      "e      Emily    9.0         2      no\n",
      "f    Michael   20.0         3     yes\n",
      "g    Matthew   14.5         1     yes\n",
      "h      Laura    NaN         1      no\n",
      "i      Kevin    8.0         2      no\n",
      "j      Jonas   19.0         1     yes\n"
     ]
    }
   ],
   "source": []
  },
  {
   "cell_type": "markdown",
   "id": "c9f14eec",
   "metadata": {},
   "source": [
    "## 18. Write a Python program to sort the DataFrame first by 'name' in descending order, then by 'score' in ascending order."
   ]
  },
  {
   "cell_type": "code",
   "execution_count": 18,
   "id": "20a53410",
   "metadata": {},
   "outputs": [
    {
     "name": "stdout",
     "output_type": "stream",
     "text": [
      "Original DataFrame:\n",
      "        name  score  attempts qualify\n",
      "a  Anastasia   12.5         1     yes\n",
      "b       Dima    9.0         3      no\n",
      "c  Katherine   16.5         2     yes\n",
      "d      James    NaN         3      no\n",
      "e      Emily    9.0         2      no\n",
      "f    Michael   20.0         3     yes\n",
      "g    Matthew   14.5         1     yes\n",
      "h      Laura    NaN         1      no\n",
      "i      Kevin    8.0         2      no\n",
      "j      Jonas   19.0         1     yes\n",
      "\n",
      "Sorted DataFrame by name:\n",
      "        name  score  attempts qualify\n",
      "f    Michael   20.0         3     yes\n",
      "g    Matthew   14.5         1     yes\n",
      "h      Laura    NaN         1      no\n",
      "i      Kevin    8.0         2      no\n",
      "c  Katherine   16.5         2     yes\n",
      "j      Jonas   19.0         1     yes\n",
      "d      James    NaN         3      no\n",
      "e      Emily    9.0         2      no\n",
      "b       Dima    9.0         3      no\n",
      "a  Anastasia   12.5         1     yes\n",
      "\n",
      "\n",
      "Sorted DataFrame by name:\n",
      "        name  score  attempts qualify\n",
      "i      Kevin    8.0         2      no\n",
      "b       Dima    9.0         3      no\n",
      "e      Emily    9.0         2      no\n",
      "a  Anastasia   12.5         1     yes\n",
      "g    Matthew   14.5         1     yes\n",
      "c  Katherine   16.5         2     yes\n",
      "j      Jonas   19.0         1     yes\n",
      "f    Michael   20.0         3     yes\n",
      "d      James    NaN         3      no\n",
      "h      Laura    NaN         1      no\n"
     ]
    }
   ],
   "source": [
    "import numpy as np\n",
    "import pandas as pd\n",
    "\n",
    "exam_data = {\n",
    "    'name': ['Anastasia', 'Dima', 'Katherine', 'James', 'Emily', 'Michael', 'Matthew', 'Laura', 'Kevin', 'Jonas'],\n",
    "    'score': [12.5, 9, 16.5, np.nan, 9, 20, 14.5, np.nan, 8, 19],\n",
    "    'attempts': [1, 3, 2, 3, 2, 3, 1, 1, 2, 1],\n",
    "    'qualify': ['yes', 'no', 'yes', 'no', 'no', 'yes', 'yes', 'no', 'no', 'yes']\n",
    "}\n",
    "labels = ['a', 'b', 'c', 'd', 'e', 'f', 'g', 'h', 'i', 'j']\n",
    "\n",
    "df = pd.DataFrame(exam_data, index=labels)\n",
    "\n",
    "print(\"Original DataFrame:\")\n",
    "print(df)\n",
    "\n",
    "sorted_by_name= df.sort_values(by=['name'], ascending=[False])\n",
    "sorted_by_score= df.sort_values(by=['score'], ascending=[True])\n",
    "\n",
    "print(\"\\nSorted DataFrame by name:\")\n",
    "print(sorted_by_name)\n",
    "print()\n",
    "print(\"\\nSorted DataFrame by name:\")\n",
    "print(sorted_by_score)"
   ]
  },
  {
   "cell_type": "markdown",
   "id": "65323b5f",
   "metadata": {},
   "source": [
    "## 19. Write a Python program to replace the 'qualify' column contains the values 'yes' and 'no' with True and False."
   ]
  },
  {
   "cell_type": "code",
   "execution_count": 19,
   "id": "f67862d1",
   "metadata": {},
   "outputs": [
    {
     "name": "stdout",
     "output_type": "stream",
     "text": [
      "Original DataFrame:\n",
      "        name  score  attempts qualify\n",
      "a  Anastasia   12.5         1     yes\n",
      "b       Dima    9.0         3      no\n",
      "c  Katherine   16.5         2     yes\n",
      "d      James    NaN         3      no\n",
      "e      Emily    9.0         2      no\n",
      "f    Michael   20.0         3     yes\n",
      "g    Matthew   14.5         1     yes\n",
      "h      Laura    NaN         1      no\n",
      "i      Kevin    8.0         2      no\n",
      "j      Jonas   19.0         1     yes\n",
      "\n",
      "DataFrame After Replacing 'qualify' Column Values:\n",
      "        name  score  attempts  qualify\n",
      "a  Anastasia   12.5         1     True\n",
      "b       Dima    9.0         3    False\n",
      "c  Katherine   16.5         2     True\n",
      "d      James    NaN         3    False\n",
      "e      Emily    9.0         2    False\n",
      "f    Michael   20.0         3     True\n",
      "g    Matthew   14.5         1     True\n",
      "h      Laura    NaN         1    False\n",
      "i      Kevin    8.0         2    False\n",
      "j      Jonas   19.0         1     True\n"
     ]
    }
   ],
   "source": [
    "import numpy as np\n",
    "import pandas as pd\n",
    "\n",
    "exam_data = {\n",
    "    'name': ['Anastasia', 'Dima', 'Katherine', 'James', 'Emily', 'Michael', 'Matthew', 'Laura', 'Kevin', 'Jonas'],\n",
    "    'score': [12.5, 9, 16.5, np.nan, 9, 20, 14.5, np.nan, 8, 19],\n",
    "    'attempts': [1, 3, 2, 3, 2, 3, 1, 1, 2, 1],\n",
    "    'qualify': ['yes', 'no', 'yes', 'no', 'no', 'yes', 'yes', 'no', 'no', 'yes']\n",
    "}\n",
    "labels = ['a', 'b', 'c', 'd', 'e', 'f', 'g', 'h', 'i', 'j']\n",
    "\n",
    "df = pd.DataFrame(exam_data, index=labels)\n",
    "\n",
    "print(\"Original DataFrame:\")\n",
    "print(df)\n",
    "\n",
    "df['qualify'] = df['qualify'].replace({'yes': True, 'no': False})\n",
    "\n",
    "print(\"\\nDataFrame After Replacing 'qualify' Column Values:\")\n",
    "print(df)\n"
   ]
  },
  {
   "cell_type": "markdown",
   "id": "e853dda8",
   "metadata": {},
   "source": [
    "## 20. Write a Python program to delete the 'attempts' column from the DataFrame."
   ]
  },
  {
   "cell_type": "code",
   "execution_count": 20,
   "id": "4b760222",
   "metadata": {},
   "outputs": [
    {
     "name": "stdout",
     "output_type": "stream",
     "text": [
      "Original DataFrame:\n",
      "        name  score  attempts qualify\n",
      "a  Anastasia   12.5         1     yes\n",
      "b       Dima    9.0         3      no\n",
      "c  Katherine   16.5         2     yes\n",
      "d      James    NaN         3      no\n",
      "e      Emily    9.0         2      no\n",
      "f    Michael   20.0         3     yes\n",
      "g    Matthew   14.5         1     yes\n",
      "h      Laura    NaN         1      no\n",
      "i      Kevin    8.0         2      no\n",
      "j      Jonas   19.0         1     yes\n",
      "\n",
      "DataFrame After Deleting 'attempts' Column:\n",
      "        name  score qualify\n",
      "a  Anastasia   12.5     yes\n",
      "b       Dima    9.0      no\n",
      "c  Katherine   16.5     yes\n",
      "d      James    NaN      no\n",
      "e      Emily    9.0      no\n",
      "f    Michael   20.0     yes\n",
      "g    Matthew   14.5     yes\n",
      "h      Laura    NaN      no\n",
      "i      Kevin    8.0      no\n",
      "j      Jonas   19.0     yes\n"
     ]
    }
   ],
   "source": [
    "import numpy as np\n",
    "import pandas as pd\n",
    "\n",
    "exam_data = {\n",
    "    'name': ['Anastasia', 'Dima', 'Katherine', 'James', 'Emily', 'Michael', 'Matthew', 'Laura', 'Kevin', 'Jonas'],\n",
    "    'score': [12.5, 9, 16.5, np.nan, 9, 20, 14.5, np.nan, 8, 19],\n",
    "    'attempts': [1, 3, 2, 3, 2, 3, 1, 1, 2, 1],\n",
    "    'qualify': ['yes', 'no', 'yes', 'no', 'no', 'yes', 'yes', 'no', 'no', 'yes']\n",
    "}\n",
    "labels = ['a', 'b', 'c', 'd', 'e', 'f', 'g', 'h', 'i', 'j']\n",
    "\n",
    "df = pd.DataFrame(exam_data, index=labels)\n",
    "\n",
    "print(\"Original DataFrame:\")\n",
    "print(df)\n",
    "\n",
    "df_dropped = df.drop(columns=['attempts'])\n",
    "\n",
    "print(\"\\nDataFrame After Deleting 'attempts' Column:\")\n",
    "print(df_dropped)\n"
   ]
  },
  {
   "cell_type": "markdown",
   "id": "06f091db",
   "metadata": {},
   "source": [
    "## 21. Write a Python program to insert a new column in existing DataFrame."
   ]
  },
  {
   "cell_type": "code",
   "execution_count": 21,
   "id": "fb75b5f4",
   "metadata": {},
   "outputs": [
    {
     "name": "stdout",
     "output_type": "stream",
     "text": [
      "Original DataFrame:\n",
      "        name  score  attempts qualify\n",
      "a  Anastasia   12.5         1     yes\n",
      "b       Dima    9.0         3      no\n",
      "c  Katherine   16.5         2     yes\n",
      "d      James    NaN         3      no\n",
      "e      Emily    9.0         2      no\n",
      "f    Michael   20.0         3     yes\n",
      "g    Matthew   14.5         1     yes\n",
      "h      Laura    NaN         1      no\n",
      "i      Kevin    8.0         2      no\n",
      "j      Jonas   19.0         1     yes\n",
      "\n",
      "DataFrame After Inserting 'age' Column:\n",
      "        name  score  attempts qualify  age\n",
      "a  Anastasia   12.5         1     yes   22\n",
      "b       Dima    9.0         3      no   23\n",
      "c  Katherine   16.5         2     yes   24\n",
      "d      James    NaN         3      no   25\n",
      "e      Emily    9.0         2      no   26\n",
      "f    Michael   20.0         3     yes   27\n",
      "g    Matthew   14.5         1     yes   28\n",
      "h      Laura    NaN         1      no   29\n",
      "i      Kevin    8.0         2      no   30\n",
      "j      Jonas   19.0         1     yes   31\n"
     ]
    }
   ],
   "source": [
    "import numpy as np\n",
    "import pandas as pd\n",
    "\n",
    "exam_data = {\n",
    "    'name': ['Anastasia', 'Dima', 'Katherine', 'James', 'Emily', 'Michael', 'Matthew', 'Laura', 'Kevin', 'Jonas'],\n",
    "    'score': [12.5, 9, 16.5, np.nan, 9, 20, 14.5, np.nan, 8, 19],\n",
    "    'attempts': [1, 3, 2, 3, 2, 3, 1, 1, 2, 1],\n",
    "    'qualify': ['yes', 'no', 'yes', 'no', 'no', 'yes', 'yes', 'no', 'no', 'yes']\n",
    "}\n",
    "labels = ['a', 'b', 'c', 'd', 'e', 'f', 'g', 'h', 'i', 'j']\n",
    "\n",
    "df = pd.DataFrame(exam_data, index=labels)\n",
    "\n",
    "print(\"Original DataFrame:\")\n",
    "print(df)\n",
    "\n",
    "df['age'] = [22, 23, 24, 25, 26, 27, 28, 29, 30, 31]\n",
    "print(\"\\nDataFrame After Inserting 'age' Column:\")\n",
    "print(df)\n"
   ]
  },
  {
   "cell_type": "markdown",
   "id": "5f4e44ed",
   "metadata": {},
   "source": [
    "## 22. Write a Python program to iterate over rows in a DataFrame."
   ]
  },
  {
   "cell_type": "code",
   "execution_count": 23,
   "id": "e43748e9",
   "metadata": {},
   "outputs": [
    {
     "name": "stdout",
     "output_type": "stream",
     "text": [
      "Iterating over rows using iterrows():\n",
      "Index: a\n",
      "Row data:\n",
      "name        Anastasia\n",
      "score            12.5\n",
      "attempts            1\n",
      "qualify           yes\n",
      "Name: a, dtype: object\n",
      "\n",
      "Index: b\n",
      "Row data:\n",
      "name        Dima\n",
      "score        9.0\n",
      "attempts       3\n",
      "qualify       no\n",
      "Name: b, dtype: object\n",
      "\n",
      "Index: c\n",
      "Row data:\n",
      "name        Katherine\n",
      "score            16.5\n",
      "attempts            2\n",
      "qualify           yes\n",
      "Name: c, dtype: object\n",
      "\n",
      "Index: d\n",
      "Row data:\n",
      "name        James\n",
      "score         NaN\n",
      "attempts        3\n",
      "qualify        no\n",
      "Name: d, dtype: object\n",
      "\n",
      "Index: e\n",
      "Row data:\n",
      "name        Emily\n",
      "score         9.0\n",
      "attempts        2\n",
      "qualify        no\n",
      "Name: e, dtype: object\n",
      "\n",
      "Index: f\n",
      "Row data:\n",
      "name        Michael\n",
      "score          20.0\n",
      "attempts          3\n",
      "qualify         yes\n",
      "Name: f, dtype: object\n",
      "\n",
      "Index: g\n",
      "Row data:\n",
      "name        Matthew\n",
      "score          14.5\n",
      "attempts          1\n",
      "qualify         yes\n",
      "Name: g, dtype: object\n",
      "\n",
      "Index: h\n",
      "Row data:\n",
      "name        Laura\n",
      "score         NaN\n",
      "attempts        1\n",
      "qualify        no\n",
      "Name: h, dtype: object\n",
      "\n",
      "Index: i\n",
      "Row data:\n",
      "name        Kevin\n",
      "score         8.0\n",
      "attempts        2\n",
      "qualify        no\n",
      "Name: i, dtype: object\n",
      "\n",
      "Index: j\n",
      "Row data:\n",
      "name        Jonas\n",
      "score        19.0\n",
      "attempts        1\n",
      "qualify       yes\n",
      "Name: j, dtype: object\n",
      "\n"
     ]
    }
   ],
   "source": [
    "import numpy as np\n",
    "import pandas as pd\n",
    "\n",
    "exam_data = {\n",
    "    'name': ['Anastasia', 'Dima', 'Katherine', 'James', 'Emily', 'Michael', 'Matthew', 'Laura', 'Kevin', 'Jonas'],\n",
    "    'score': [12.5, 9, 16.5, np.nan, 9, 20, 14.5, np.nan, 8, 19],\n",
    "    'attempts': [1, 3, 2, 3, 2, 3, 1, 1, 2, 1],\n",
    "    'qualify': ['yes', 'no', 'yes', 'no', 'no', 'yes', 'yes', 'no', 'no', 'yes']\n",
    "}\n",
    "labels = ['a', 'b', 'c', 'd', 'e', 'f', 'g', 'h', 'i', 'j']\n",
    "\n",
    "df = pd.DataFrame(exam_data, index=labels)\n",
    "'''\n",
    "The iterrows() method generates an iterator object of the DataFrame, allowing us to iterate each row in the DataFrame.\n",
    "Each iteration produces an index object and a row object (a Pandas Series object).\n",
    "Syntax\n",
    "dataframe.iterrows()\n",
    "'''\n",
    "print(\"Iterating over rows using iterrows():\")\n",
    "for index, row in df.iterrows():\n",
    "    print(f\"Index: {index}\")\n",
    "    print(f\"Row data:\\n{row}\\n\")\n"
   ]
  },
  {
   "cell_type": "markdown",
   "id": "9d4c8f67",
   "metadata": {},
   "source": [
    "## 23. Write a Python program to get list from DataFrame column headers."
   ]
  },
  {
   "cell_type": "code",
   "execution_count": 25,
   "id": "7afbc3bd",
   "metadata": {},
   "outputs": [
    {
     "name": "stdout",
     "output_type": "stream",
     "text": [
      "List of DataFrame column headers:\n",
      "['name', 'score', 'attempts', 'qualify']\n"
     ]
    }
   ],
   "source": [
    "import numpy as np\n",
    "import pandas as pd\n",
    "\n",
    "exam_data = {\n",
    "    'name': ['Anastasia', 'Dima', 'Katherine', 'James', 'Emily', 'Michael', 'Matthew', 'Laura', 'Kevin', 'Jonas'],\n",
    "    'score': [12.5, 9, 16.5, np.nan, 9, 20, 14.5, np.nan, 8, 19],\n",
    "    'attempts': [1, 3, 2, 3, 2, 3, 1, 1, 2, 1],\n",
    "    'qualify': ['yes', 'no', 'yes', 'no', 'no', 'yes', 'yes', 'no', 'no', 'yes']\n",
    "}\n",
    "labels = ['a', 'b', 'c', 'd', 'e', 'f', 'g', 'h', 'i', 'j']\n",
    "\n",
    "df = pd.DataFrame(exam_data, index=labels)\n",
    "\n",
    "column_headers = list(df.columns)\n",
    "\n",
    "print(\"List of DataFrame column headers:\")\n",
    "print(column_headers)\n"
   ]
  },
  {
   "cell_type": "code",
   "execution_count": 29,
   "id": "f72a7c83",
   "metadata": {},
   "outputs": [
    {
     "name": "stdout",
     "output_type": "stream",
     "text": [
      "name\n",
      "Anastasia    13.75\n",
      "Dima          9.50\n",
      "Emily         9.50\n",
      "James        11.00\n",
      "Jonas        19.50\n",
      "Katherine    16.75\n",
      "Kevin         8.50\n",
      "Laura        12.00\n",
      "Matthew      14.75\n",
      "Michael      20.50\n",
      "Name: score, dtype: float64\n"
     ]
    }
   ],
   "source": [
    "# Example with multiple scores per student\n",
    "exam_data = {\n",
    "    'name': ['Anastasia', 'Dima', 'Katherine', 'James', 'Emily', 'Michael', 'Matthew', 'Laura', 'Kevin', 'Jonas',\n",
    "             'Anastasia', 'Dima', 'Katherine', 'James', 'Emily', 'Michael', 'Matthew', 'Laura', 'Kevin', 'Jonas'],\n",
    "    'score': [12.5, 9, 16.5, np.nan, 9, 20, 14.5, np.nan, 8, 19,\n",
    "              15.0, 10, 17.0, 11.0, 10, 21, 15.0, 12.0, 9, 20],\n",
    "    'attempts': [1, 3, 2, 3, 2, 3, 1, 1, 2, 1,\n",
    "                 1, 3, 2, 3, 2, 3, 1, 1, 2, 1],\n",
    "    'qualify': ['yes', 'no', 'yes', 'no', 'no', 'yes', 'yes', 'no', 'no', 'yes',\n",
    "                'yes', 'no', 'yes', 'no', 'no', 'yes', 'yes', 'no', 'no', 'yes']\n",
    "}\n",
    "df = pd.DataFrame(exam_data, index=labels*2)\n",
    "\n",
    "\n",
    "# Calculating the mean score for each student using groupby\n",
    "mean_score_per_student = df.groupby('name')['score'].mean()\n",
    "print(mean_score_per_student)\n",
    "\n",
    "# Displaying the result\n",
    "# print(\"\\nMethod 2 - Mean Score per Student with Multiple Entries\")\n",
    "# print(mean_score_per_student)\n"
   ]
  },
  {
   "cell_type": "code",
   "execution_count": null,
   "id": "c16ef72f",
   "metadata": {},
   "outputs": [],
   "source": []
  }
 ],
 "metadata": {
  "kernelspec": {
   "display_name": "Python 3 (ipykernel)",
   "language": "python",
   "name": "python3"
  },
  "language_info": {
   "codemirror_mode": {
    "name": "ipython",
    "version": 3
   },
   "file_extension": ".py",
   "mimetype": "text/x-python",
   "name": "python",
   "nbconvert_exporter": "python",
   "pygments_lexer": "ipython3",
   "version": "3.11.5"
  }
 },
 "nbformat": 4,
 "nbformat_minor": 5
}
