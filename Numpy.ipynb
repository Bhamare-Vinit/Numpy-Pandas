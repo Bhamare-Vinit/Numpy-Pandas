{
 "cells": [
  {
   "cell_type": "markdown",
   "id": "282cdfa5",
   "metadata": {},
   "source": [
    "## 1. Write a Python program to convert a list of numeric value into a one-dimensional NumPy array.\n",
    "Expected Output:<br>\n",
    "Original List: [12.23, 13.32, 100, 36.32]<br>\n",
    "One-dimensional numpy array: [ 12.23 13.32 100. 36.32]<br>"
   ]
  },
  {
   "cell_type": "code",
   "execution_count": 4,
   "id": "70f1d826",
   "metadata": {},
   "outputs": [
    {
     "name": "stdout",
     "output_type": "stream",
     "text": [
      "List: [1, 7, 0, 6, 2, 5, 6]\n",
      "arr using array():  [1 7 0 6 2 5 6]\n",
      "arr1 using asarray():  [1 7 0 6 2 5 6]\n",
      "arr2 using asarray():  [1 7 0 6 2 5 6]\n",
      "lst:  [1, 7, 0, 6, 2, 5, 6]\n",
      "arr using array()::  [1 7 0 6 2 5 6]\n",
      "arr1 using asarray():  [ 1  7  0 23  2  5  6]\n",
      "arr2 using asarray():  [ 1  7  0 23  2  5  6]\n"
     ]
    }
   ],
   "source": [
    "import numpy \n",
    "\n",
    "lst = [1, 7, 0, 6, 2, 5, 6]\n",
    "\n",
    "# converting list to array using array\n",
    "arr = numpy.array(lst)\n",
    "\n",
    "# converting list to array using asarray()\n",
    "'''\n",
    "The vital difference between the above two methods is that numpy.array() will make a duplicate \n",
    "of the original object and numpy.asarray() would mirror the changes in the original object. \n",
    "When a copy of the array is made by using numpy.asarray(), the changes made in one array \n",
    "would be reflected in the other array also but doesn’t show the changes in the list by which \n",
    "if the array is made.\n",
    "'''\n",
    "arr1 = numpy.asarray(lst)\n",
    "\n",
    "print (\"List:\", lst)\n",
    "\n",
    "print (\"arr using array(): \", arr)\n",
    "\n",
    "print (\"arr1 using asarray(): \", arr1)\n",
    "\n",
    "# made another array out of arr1 using asarray function\n",
    "arr2 = numpy.asarray(arr1)\n",
    "\n",
    "print(\"arr2 using asarray(): \" , arr2)\n",
    "\n",
    "arr2[3] = 23\n",
    "\n",
    "#displaying arr, arr1 , arr2 , list after the change has been made\n",
    "print(\"lst: \" , lst)\n",
    "print(\"arr using array():: \" , arr)\n",
    "print(\"arr1 using asarray(): \" , arr1)\n",
    "print(\"arr2 using asarray(): \" , arr2)\n"
   ]
  },
  {
   "cell_type": "markdown",
   "id": "f1281560",
   "metadata": {},
   "source": [
    "## 2. Create a 3x3 matrix with values ranging from 2 to 10.\n",
    "Expected Output:<br>\n",
    "[[ 2 3 4]<br>\n",
    "[ 5 6 7]<br>\n",
    "[ 8 9 10]]<br>"
   ]
  },
  {
   "cell_type": "code",
   "execution_count": 7,
   "id": "1322ee9c",
   "metadata": {},
   "outputs": [
    {
     "name": "stdout",
     "output_type": "stream",
     "text": [
      "Method 1:\n",
      " [[ 2  3  4]\n",
      " [ 5  6  7]\n",
      " [ 8  9 10]]\n",
      "Method 2:\n",
      " [[ 2  3  4]\n",
      " [ 5  6  7]\n",
      " [ 8  9 10]]\n",
      "Method 3:\n",
      " [[ 2  3  4]\n",
      " [ 5  6  7]\n",
      " [ 8  9 10]]\n"
     ]
    }
   ],
   "source": [
    "import numpy as np\n",
    "\n",
    "matrix1 = np.arange(2, 11).reshape(3, 3)\n",
    "print(\"Method 1:\\n\", matrix1)\n",
    "\n",
    "matrix3 = np.array([[2, 3, 4], [5, 6, 7], [8, 9, 10]])\n",
    "print(\"Method 2:\\n\", matrix3)\n",
    "\n",
    "matrix6 = np.array([i for i in range(2, 11)]).reshape(3, 3)\n",
    "print(\"Method 3:\\n\", matrix6)"
   ]
  },
  {
   "cell_type": "markdown",
   "id": "2bbd85b3",
   "metadata": {},
   "source": [
    "## 3. Write a Python program to create a null vector of size 10 and update sixth value to 11.\n",
    "[ 0. 0. 0. 0. 0. 0. 0. 0. 0. 0.]<br>\n",
    "Update sixth value to 11<br>\n",
    "[ 0. 0. 0. 0. 0. 0. 11. 0. 0. 0.]"
   ]
  },
  {
   "cell_type": "code",
   "execution_count": 8,
   "id": "c76ded94",
   "metadata": {},
   "outputs": [
    {
     "name": "stdout",
     "output_type": "stream",
     "text": [
      "[ 0.  0.  0.  0.  0. 11.  0.  0.  0.  0.]\n"
     ]
    }
   ],
   "source": [
    "import numpy as np\n",
    "#array of zeros\n",
    "null_vector = np.zeros(10)\n",
    "\n",
    "null_vector[5] = 11\n",
    "\n",
    "print(null_vector)"
   ]
  },
  {
   "cell_type": "markdown",
   "id": "e3df8687",
   "metadata": {},
   "source": [
    "## 4. Write a Python program to reverse an array (first element becomes last).\n",
    "Original array:<br>\n",
    "[12 13 14 15 16 17 18 19 20 21 22 23 24 25 26 27 28 29 30 31 32 33 34 35 36 37]<br>\n",
    "Reverse array:<br>\n",
    "[37 36 35 34 33 32 31 30 29 28 27 26 25 24 23 22 21 20 19 18 17 16 15 14 13 12]<br>"
   ]
  },
  {
   "cell_type": "code",
   "execution_count": 12,
   "id": "3c98b907",
   "metadata": {},
   "outputs": [
    {
     "name": "stdout",
     "output_type": "stream",
     "text": [
      "original array: [12 13 14 15 16 17 18 19 20 21 22 23 24 25 26 27 28 29 30 31 32 33 34 35\n",
      " 36 37]\n",
      "reverse array: [37 36 35 34 33 32 31 30 29 28 27 26 25 24 23 22 21 20 19 18 17 16 15 14\n",
      " 13 12] \n"
     ]
    }
   ],
   "source": [
    "import numpy as np\n",
    "\n",
    "arr=np.array([12, 13, 14, 15, 16, 17, 18, 19, 20, 21, 22, 23, 24, 25, 26, 27, 28, 29, 30, 31, 32, 33, 34, 35, 36, 37])\n",
    "\n",
    "rev_arr=arr[::-1]\n",
    "print(f\"original array: {arr}\")\n",
    "print(f\"reverse array: {rev_arr} \")"
   ]
  },
  {
   "cell_type": "markdown",
   "id": "03a5f4d1",
   "metadata": {},
   "source": [
    "## 5. Write a Python program to create a 2d array with 1 on the border and 0 inside.\n",
    "Original array:<br>\n",
    "[[ 1. 1. 1. 1. 1.]<br>\n",
    "[ 1. 1. 1. 1. 1.]<br>\n",
    "[ 1. 1. 1. 1. 1.]<br>\n",
    "[ 1. 1. 1. 1. 1.]<br>\n",
    "[ 1. 1. 1. 1. 1.]]<br>"
   ]
  },
  {
   "cell_type": "code",
   "execution_count": 15,
   "id": "72396a84",
   "metadata": {},
   "outputs": [
    {
     "name": "stdout",
     "output_type": "stream",
     "text": [
      "Enter the number of rows and columns separated by space: 9 9\n",
      "original array:\n",
      "[[1. 1. 1. 1. 1. 1. 1. 1. 1.]\n",
      " [1. 1. 1. 1. 1. 1. 1. 1. 1.]\n",
      " [1. 1. 1. 1. 1. 1. 1. 1. 1.]\n",
      " [1. 1. 1. 1. 1. 1. 1. 1. 1.]\n",
      " [1. 1. 1. 1. 1. 1. 1. 1. 1.]\n",
      " [1. 1. 1. 1. 1. 1. 1. 1. 1.]\n",
      " [1. 1. 1. 1. 1. 1. 1. 1. 1.]\n",
      " [1. 1. 1. 1. 1. 1. 1. 1. 1.]\n",
      " [1. 1. 1. 1. 1. 1. 1. 1. 1.]]\n",
      "Updated array:\n",
      "[[1. 1. 1. 1. 1. 1. 1. 1. 1.]\n",
      " [1. 0. 0. 0. 0. 0. 0. 0. 1.]\n",
      " [1. 0. 0. 0. 0. 0. 0. 0. 1.]\n",
      " [1. 0. 0. 0. 0. 0. 0. 0. 1.]\n",
      " [1. 0. 0. 0. 0. 0. 0. 0. 1.]\n",
      " [1. 0. 0. 0. 0. 0. 0. 0. 1.]\n",
      " [1. 0. 0. 0. 0. 0. 0. 0. 1.]\n",
      " [1. 0. 0. 0. 0. 0. 0. 0. 1.]\n",
      " [1. 1. 1. 1. 1. 1. 1. 1. 1.]]\n"
     ]
    }
   ],
   "source": [
    "import numpy as np\n",
    "\n",
    "rows, cols = map(int, input(\"Enter the number of rows and columns separated by space: \").split())\n",
    "\n",
    "array = np.ones((rows, cols))\n",
    "print(\"original array:\")\n",
    "print(array)\n",
    "\n",
    "array[1:-1, 1:-1] = 0\n",
    "\n",
    "print(\"Updated array:\")\n",
    "print(array)\n"
   ]
  },
  {
   "cell_type": "markdown",
   "id": "7d0dd2c2",
   "metadata": {},
   "source": [
    "## 6. Write a Python program to add a border (filled with 0's) around an existing array.\n",
    "Expected Output:<br>\n",
    "Original array:<br>\n",
    "[[ 1. 1. 1.]<br>\n",
    "[ 1. 1. 1.]<br>\n",
    "[ 1. 1. 1.]]<br>\n",
    "1 on the border and 0 inside in the array<br>\n",
    "[[ 0. 0. 0. 0. 0.]<br>\n",
    "[ 0. 1. 1. 1. 0.]<br>\n",
    "[ 0. 1. 1. 1. 0.]<br>\n",
    "[ 0. 1. 1. 1. 0.]<br>\n",
    "[ 0. 0. 0. 0. 0.]]<br>"
   ]
  },
  {
   "cell_type": "code",
   "execution_count": 20,
   "id": "1d977e0b",
   "metadata": {},
   "outputs": [
    {
     "name": "stdout",
     "output_type": "stream",
     "text": [
      "Enter the number of rows and columns separated by space: 2 3\n",
      "original array:\n",
      "[[1. 1. 1.]\n",
      " [1. 1. 1.]]\n",
      "updated array:\n",
      "[[0. 0. 0. 0. 0.]\n",
      " [0. 1. 1. 1. 0.]\n",
      " [0. 1. 1. 1. 0.]\n",
      " [0. 0. 0. 0. 0.]]\n"
     ]
    }
   ],
   "source": [
    "import numpy as np\n",
    "\n",
    "rows, cols = map(int, input(\"Enter the number of rows and columns separated by space: \").split())\n",
    "\n",
    "array = np.ones((rows, cols))\n",
    "print(\"original array:\")\n",
    "print(array)\n",
    "\n",
    "updated_array=np.zeros((rows+2,cols+2))\n",
    "updated_array[1:-1, 1:-1] = array\n",
    "\n",
    "print(\"updated array:\")\n",
    "print(updated_array)"
   ]
  },
  {
   "cell_type": "markdown",
   "id": "5a188e4a",
   "metadata": {},
   "source": [
    "## 7. Write a Python program to create a 8x8 matrix and fill it with a checkerboard pattern.\n",
    "Checkerboard pattern:<br>\n",
    "[[0 1 0 1 0 1 0 1]<br>\n",
    "[1 0 1 0 1 0 1 0]<br>\n",
    "[0 1 0 1 0 1 0 1]<br>\n",
    "[1 0 1 0 1 0 1 0]<br>\n",
    "[0 1 0 1 0 1 0 1]<br>\n",
    "[1 0 1 0 1 0 1 0]<br>\n",
    "[0 1 0 1 0 1 0 1]<br>\n",
    "[1 0 1 0 1 0 1 0]]"
   ]
  },
  {
   "cell_type": "code",
   "execution_count": 24,
   "id": "87a0fdde",
   "metadata": {},
   "outputs": [
    {
     "name": "stdout",
     "output_type": "stream",
     "text": [
      "Enter the size of board: 8\n",
      "original array:\n",
      "[[0. 0. 0. 0. 0. 0. 0. 0.]\n",
      " [0. 0. 0. 0. 0. 0. 0. 0.]\n",
      " [0. 0. 0. 0. 0. 0. 0. 0.]\n",
      " [0. 0. 0. 0. 0. 0. 0. 0.]\n",
      " [0. 0. 0. 0. 0. 0. 0. 0.]\n",
      " [0. 0. 0. 0. 0. 0. 0. 0.]\n",
      " [0. 0. 0. 0. 0. 0. 0. 0.]\n",
      " [0. 0. 0. 0. 0. 0. 0. 0.]]\n",
      "original array:\n",
      "[[0. 1. 0. 1. 0. 1. 0. 1.]\n",
      " [1. 0. 1. 0. 1. 0. 1. 0.]\n",
      " [0. 1. 0. 1. 0. 1. 0. 1.]\n",
      " [1. 0. 1. 0. 1. 0. 1. 0.]\n",
      " [0. 1. 0. 1. 0. 1. 0. 1.]\n",
      " [1. 0. 1. 0. 1. 0. 1. 0.]\n",
      " [0. 1. 0. 1. 0. 1. 0. 1.]\n",
      " [1. 0. 1. 0. 1. 0. 1. 0.]]\n"
     ]
    }
   ],
   "source": [
    "import numpy as np\n",
    "\n",
    "size =int( input(\"Enter the size of board: \"))\n",
    "\n",
    "array = np.zeros((size, size))\n",
    "# print(\"original array:\")\n",
    "# print(array)\n",
    "\n",
    "array[::2,1::2]=1\n",
    "array[1::2,::2]=1\n",
    "print(\"original array:\")\n",
    "print(array)\n"
   ]
  },
  {
   "cell_type": "markdown",
   "id": "2bbf1583",
   "metadata": {},
   "source": [
    "## 8. Write a Python program to convert a list and tuple into arrays.\n",
    "List to array:<br>\n",
    "[1 2 3 4 5 6 7 8]<br>\n",
    "Tuple to array:<br>\n",
    "[[8 4 6]<br>\n",
    "[1 2 3]]<br>"
   ]
  },
  {
   "cell_type": "code",
   "execution_count": 25,
   "id": "b0adfe06",
   "metadata": {},
   "outputs": [
    {
     "name": "stdout",
     "output_type": "stream",
     "text": [
      "List to array:\n",
      "[1 2 3 4 5 6 7 8]\n",
      "Tuple to array:\n",
      "[[8 4 6]\n",
      " [1 2 3]]\n"
     ]
    }
   ],
   "source": [
    "import numpy as np\n",
    "\n",
    "list_data = [1, 2, 3, 4, 5, 6, 7, 8]\n",
    "array_from_list = np.array(list_data)\n",
    "\n",
    "tuple_data = ((8, 4, 6), (1, 2, 3))\n",
    "array_from_tuple = np.array(tuple_data)\n",
    "\n",
    "print(\"List to array:\")\n",
    "print(array_from_list)\n",
    "\n",
    "print(\"Tuple to array:\")\n",
    "print(array_from_tuple)\n"
   ]
  },
  {
   "cell_type": "markdown",
   "id": "af5b9e6b",
   "metadata": {},
   "source": [
    "## 9. Write a Python program to append values to the end of an array.\n",
    "Expected Output:<br>\n",
    "Original array:<br>\n",
    "[10, 20, 30]<br>\n",
    "\n",
    "After append values to the end of the array:<br>\n",
    "[10 20 30 40 50 60 70 80 90]<br>"
   ]
  },
  {
   "cell_type": "code",
   "execution_count": 26,
   "id": "83aa6a53",
   "metadata": {},
   "outputs": [
    {
     "name": "stdout",
     "output_type": "stream",
     "text": [
      "Enter the elements of the original array separated by spaces: 10 20 30\n",
      "Enter the values to append separated by spaces: 40 50 60 70\n",
      "Original array:\n",
      "[10 20 30]\n",
      "Updated array:\n",
      "[10 20 30 40 50 60 70]\n"
     ]
    }
   ],
   "source": [
    "import numpy as np\n",
    "\n",
    "original_input = input(\"Enter the elements of the original array separated by spaces: \")\n",
    "original_array = np.array([int(x) for x in original_input.split()])\n",
    "\n",
    "append_input = input(\"Enter the values to append separated by spaces: \")\n",
    "values_to_append = [int(x) for x in append_input.split()]\n",
    "\n",
    "updated_array = np.append(original_array, values_to_append)\n",
    "\n",
    "print(\"Original array:\")\n",
    "print(original_array)\n",
    "\n",
    "print(\"Updated array:\")\n",
    "print(updated_array)\n"
   ]
  },
  {
   "cell_type": "markdown",
   "id": "0b8bbdbc",
   "metadata": {},
   "source": [
    "## 10. Write a Python program to find the real and imaginary parts of an array of complex numbers.\n",
    "Expected Output:<br>\n",
    "Original array [ 1.00000000+0.j 0.70710678+0.70710678j]<br>\n",
    "Real part of the array:<br>\n",
    "[ 1. 0.70710678]<br>\n",
    "Imaginary part of the array:<br>\n",
    "[ 0. 0.70710678]<br>"
   ]
  },
  {
   "cell_type": "code",
   "execution_count": null,
   "id": "35f604b5",
   "metadata": {},
   "outputs": [],
   "source": [
    "import numpy as np\n",
    "\n",
    "complex_array = np.array([1 + 0j, 0.70710678 + 0.70710678j])\n",
    "\n",
    "real_part = complex_array.real\n",
    "\n",
    "imaginary_part = complex_array.imag\n",
    "\n",
    "print(\"Original array:\")\n",
    "print(complex_array)\n",
    "\n",
    "print(\"Real part of the array:\")\n",
    "print(real_part)\n",
    "\n",
    "print(\"Imaginary part of the array:\")\n",
    "print(imaginary_part)\n"
   ]
  },
  {
   "cell_type": "markdown",
   "id": "fd6552f7",
   "metadata": {},
   "source": [
    "## 11. Write a Python program to find the number of elements of an array, length of one\n",
    "array element in bytes and total bytes consumed by the elements.<br>\n",
    "Expected Output:<br>\n",
    "Size of the array: 3<br>\n",
    "Length of one array element in bytes: 8<br>\n",
    "Total bytes consumed by the elements of the array: 24<br>"
   ]
  },
  {
   "cell_type": "code",
   "execution_count": 32,
   "id": "fd22a981",
   "metadata": {},
   "outputs": [
    {
     "name": "stdout",
     "output_type": "stream",
     "text": [
      "Size of the array: 4\n",
      "Length of one array element in bytes: 4\n",
      "Total bytes consumed by the elements of the array: 16\n"
     ]
    }
   ],
   "source": [
    "import numpy as np\n",
    "\n",
    "# original_input = input(\"Enter the elements of the array separated by spaces: \")\n",
    "# array = np.array([int(x) for x in original_input.split()])\n",
    "array = np.array([10, 20, 30, 40])\n",
    "\n",
    "num_elements = array.size\n",
    "\n",
    "element_size = array.itemsize\n",
    "\n",
    "total_bytes = num_elements * element_size\n",
    "\n",
    "print(f\"Size of the array: {num_elements}\")\n",
    "print(f\"Length of one array element in bytes: {element_size}\")\n",
    "print(f\"Total bytes consumed by the elements of the array: {total_bytes}\")\n"
   ]
  },
  {
   "cell_type": "markdown",
   "id": "55a130ef",
   "metadata": {},
   "source": [
    "## 13. Write a Python program to find the set difference of two arrays. The set difference will return the sorted, unique values in array1 that are not in array2.\n",
    "Expected Output:<br>\n",
    "Array1: [ 0 10 20 40 60 80]<br>\n",
    "Array2: [10, 30, 40, 50, 70, 90]<br>\n",
    "Set difference between two arrays:<br>\n",
    "[ 0 20 60 80]<br>"
   ]
  },
  {
   "cell_type": "code",
   "execution_count": null,
   "id": "304f6295",
   "metadata": {},
   "outputs": [],
   "source": [
    "import numpy as np\n",
    "\n",
    "array1 = np.array([0, 10, 20, 40, 60, 80])\n",
    "array2 = np.array([10, 30, 40, 50, 70, 90])\n",
    "'''\n",
    "numpy.setdiff1d() function find the set difference of two \n",
    "arrays and return the unique values in arr1 that are not in arr2.\n",
    "'''\n",
    "set_difference = np.setdiff1d(array1, array2)\n",
    "\n",
    "print(\"Array1:\", array1)\n",
    "print(\"Array2:\", array2)\n",
    "print(\"Set difference between two arrays:\")\n",
    "print(set_difference)\n",
    "\n"
   ]
  },
  {
   "cell_type": "markdown",
   "id": "e4c7b65e",
   "metadata": {},
   "source": [
    "## 14. Write a Python program to find the set exclusive-or of two arrays. Set exclusive-or will return the sorted, unique values that are in only one (not both) of the input arrays.\n",
    "Array1: [ 0 10 20 40 60 80]<br>\n",
    "Array2: [10, 30, 40, 50, 70]<br>\n",
    "Unique values that are in only one (not both) of the input arrays:<br>\n",
    "[ 0 20 30 50 60 70 80]<br>\n"
   ]
  },
  {
   "cell_type": "code",
   "execution_count": null,
   "id": "02b5ebb6",
   "metadata": {},
   "outputs": [],
   "source": [
    "import numpy as np\n",
    "\n",
    "array1 = np.array([0, 10, 20, 40, 60, 80])\n",
    "array2 = np.array([10, 30, 40, 50, 70])\n",
    "'''\n",
    "\n",
    "'''\n",
    "exclusive_or = np.setxor1d(array1, array2)\n",
    "\n",
    "print(\"Array1:\", array1)\n",
    "print(\"Array2:\", array2)\n",
    "print(\"Unique values that are in only one (not both) of the input arrays:\")\n",
    "print(exclusive_or)\n"
   ]
  }
 ],
 "metadata": {
  "kernelspec": {
   "display_name": "Python 3 (ipykernel)",
   "language": "python",
   "name": "python3"
  },
  "language_info": {
   "codemirror_mode": {
    "name": "ipython",
    "version": 3
   },
   "file_extension": ".py",
   "mimetype": "text/x-python",
   "name": "python",
   "nbconvert_exporter": "python",
   "pygments_lexer": "ipython3",
   "version": "3.11.5"
  }
 },
 "nbformat": 4,
 "nbformat_minor": 5
}
