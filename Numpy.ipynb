{
 "cells": [
  {
   "cell_type": "markdown",
   "id": "282cdfa5",
   "metadata": {},
   "source": [
    "## 1. Write a Python program to convert a list of numeric value into a one-dimensional NumPy array.\n",
    "Expected Output:<br>\n",
    "Original List: [12.23, 13.32, 100, 36.32]<br>\n",
    "One-dimensional numpy array: [ 12.23 13.32 100. 36.32]<br>"
   ]
  },
  {
   "cell_type": "code",
   "execution_count": 4,
   "id": "70f1d826",
   "metadata": {},
   "outputs": [
    {
     "name": "stdout",
     "output_type": "stream",
     "text": [
      "List: [1, 7, 0, 6, 2, 5, 6]\n",
      "arr using array():  [1 7 0 6 2 5 6]\n",
      "arr1 using asarray():  [1 7 0 6 2 5 6]\n",
      "arr2 using asarray():  [1 7 0 6 2 5 6]\n",
      "lst:  [1, 7, 0, 6, 2, 5, 6]\n",
      "arr using array()::  [1 7 0 6 2 5 6]\n",
      "arr1 using asarray():  [ 1  7  0 23  2  5  6]\n",
      "arr2 using asarray():  [ 1  7  0 23  2  5  6]\n"
     ]
    }
   ],
   "source": [
    "import numpy \n",
    "\n",
    "lst = [1, 7, 0, 6, 2, 5, 6]\n",
    "\n",
    "# converting list to array using array\n",
    "arr = numpy.array(lst)\n",
    "\n",
    "# converting list to array using asarray()\n",
    "'''\n",
    "The vital difference between the above two methods is that numpy.array() will make a duplicate \n",
    "of the original object and numpy.asarray() would mirror the changes in the original object. \n",
    "When a copy of the array is made by using numpy.asarray(), the changes made in one array \n",
    "would be reflected in the other array also but doesn’t show the changes in the list by which \n",
    "if the array is made.\n",
    "'''\n",
    "arr1 = numpy.asarray(lst)\n",
    "\n",
    "print (\"List:\", lst)\n",
    "\n",
    "print (\"arr using array(): \", arr)\n",
    "\n",
    "print (\"arr1 using asarray(): \", arr1)\n",
    "\n",
    "# made another array out of arr1 using asarray function\n",
    "arr2 = numpy.asarray(arr1)\n",
    "\n",
    "print(\"arr2 using asarray(): \" , arr2)\n",
    "\n",
    "arr2[3] = 23\n",
    "\n",
    "#displaying arr, arr1 , arr2 , list after the change has been made\n",
    "print(\"lst: \" , lst)\n",
    "print(\"arr using array():: \" , arr)\n",
    "print(\"arr1 using asarray(): \" , arr1)\n",
    "print(\"arr2 using asarray(): \" , arr2)\n"
   ]
  },
  {
   "cell_type": "markdown",
   "id": "f1281560",
   "metadata": {},
   "source": [
    "## 2. Create a 3x3 matrix with values ranging from 2 to 10.\n",
    "Expected Output:<br>\n",
    "[[ 2 3 4]<br>\n",
    "[ 5 6 7]<br>\n",
    "[ 8 9 10]]<br>"
   ]
  },
  {
   "cell_type": "code",
   "execution_count": 7,
   "id": "1322ee9c",
   "metadata": {},
   "outputs": [
    {
     "name": "stdout",
     "output_type": "stream",
     "text": [
      "Method 1:\n",
      " [[ 2  3  4]\n",
      " [ 5  6  7]\n",
      " [ 8  9 10]]\n",
      "Method 2:\n",
      " [[ 2  3  4]\n",
      " [ 5  6  7]\n",
      " [ 8  9 10]]\n",
      "Method 3:\n",
      " [[ 2  3  4]\n",
      " [ 5  6  7]\n",
      " [ 8  9 10]]\n"
     ]
    }
   ],
   "source": [
    "import numpy as np\n",
    "\n",
    "matrix1 = np.arange(2, 11).reshape(3, 3)\n",
    "print(\"Method 1:\\n\", matrix1)\n",
    "\n",
    "matrix3 = np.array([[2, 3, 4], [5, 6, 7], [8, 9, 10]])\n",
    "print(\"Method 2:\\n\", matrix3)\n",
    "\n",
    "matrix6 = np.array([i for i in range(2, 11)]).reshape(3, 3)\n",
    "print(\"Method 3:\\n\", matrix6)"
   ]
  },
  {
   "cell_type": "markdown",
   "id": "2bbd85b3",
   "metadata": {},
   "source": [
    "## 3. Write a Python program to create a null vector of size 10 and update sixth value to 11.\n",
    "[ 0. 0. 0. 0. 0. 0. 0. 0. 0. 0.]<br>\n",
    "Update sixth value to 11<br>\n",
    "[ 0. 0. 0. 0. 0. 0. 11. 0. 0. 0.]"
   ]
  },
  {
   "cell_type": "code",
   "execution_count": 8,
   "id": "c76ded94",
   "metadata": {},
   "outputs": [
    {
     "name": "stdout",
     "output_type": "stream",
     "text": [
      "[ 0.  0.  0.  0.  0. 11.  0.  0.  0.  0.]\n"
     ]
    }
   ],
   "source": [
    "import numpy as np\n",
    "#array of zeros\n",
    "null_vector = np.zeros(10)\n",
    "\n",
    "null_vector[5] = 11\n",
    "\n",
    "print(null_vector)"
   ]
  },
  {
   "cell_type": "markdown",
   "id": "e3df8687",
   "metadata": {},
   "source": [
    "## 4. Write a Python program to reverse an array (first element becomes last).\n",
    "Original array:<br>\n",
    "[12 13 14 15 16 17 18 19 20 21 22 23 24 25 26 27 28 29 30 31 32 33 34 35 36 37]<br>\n",
    "Reverse array:<br>\n",
    "[37 36 35 34 33 32 31 30 29 28 27 26 25 24 23 22 21 20 19 18 17 16 15 14 13 12]<br>"
   ]
  },
  {
   "cell_type": "code",
   "execution_count": 12,
   "id": "3c98b907",
   "metadata": {},
   "outputs": [
    {
     "name": "stdout",
     "output_type": "stream",
     "text": [
      "original array: [12 13 14 15 16 17 18 19 20 21 22 23 24 25 26 27 28 29 30 31 32 33 34 35\n",
      " 36 37]\n",
      "reverse array: [37 36 35 34 33 32 31 30 29 28 27 26 25 24 23 22 21 20 19 18 17 16 15 14\n",
      " 13 12] \n"
     ]
    }
   ],
   "source": [
    "import numpy as np\n",
    "\n",
    "arr=np.array([12, 13, 14, 15, 16, 17, 18, 19, 20, 21, 22, 23, 24, 25, 26, 27, 28, 29, 30, 31, 32, 33, 34, 35, 36, 37])\n",
    "\n",
    "rev_arr=arr[::-1]\n",
    "print(f\"original array: {arr}\")\n",
    "print(f\"reverse array: {rev_arr} \")"
   ]
  },
  {
   "cell_type": "markdown",
   "id": "03a5f4d1",
   "metadata": {},
   "source": [
    "## 5. Write a Python program to create a 2d array with 1 on the border and 0 inside.\n",
    "Original array:<br>\n",
    "[[ 1. 1. 1. 1. 1.]<br>\n",
    "[ 1. 1. 1. 1. 1.]<br>\n",
    "[ 1. 1. 1. 1. 1.]<br>\n",
    "[ 1. 1. 1. 1. 1.]<br>\n",
    "[ 1. 1. 1. 1. 1.]]<br>"
   ]
  },
  {
   "cell_type": "code",
   "execution_count": 15,
   "id": "72396a84",
   "metadata": {},
   "outputs": [
    {
     "name": "stdout",
     "output_type": "stream",
     "text": [
      "Enter the number of rows and columns separated by space: 9 9\n",
      "original array:\n",
      "[[1. 1. 1. 1. 1. 1. 1. 1. 1.]\n",
      " [1. 1. 1. 1. 1. 1. 1. 1. 1.]\n",
      " [1. 1. 1. 1. 1. 1. 1. 1. 1.]\n",
      " [1. 1. 1. 1. 1. 1. 1. 1. 1.]\n",
      " [1. 1. 1. 1. 1. 1. 1. 1. 1.]\n",
      " [1. 1. 1. 1. 1. 1. 1. 1. 1.]\n",
      " [1. 1. 1. 1. 1. 1. 1. 1. 1.]\n",
      " [1. 1. 1. 1. 1. 1. 1. 1. 1.]\n",
      " [1. 1. 1. 1. 1. 1. 1. 1. 1.]]\n",
      "Updated array:\n",
      "[[1. 1. 1. 1. 1. 1. 1. 1. 1.]\n",
      " [1. 0. 0. 0. 0. 0. 0. 0. 1.]\n",
      " [1. 0. 0. 0. 0. 0. 0. 0. 1.]\n",
      " [1. 0. 0. 0. 0. 0. 0. 0. 1.]\n",
      " [1. 0. 0. 0. 0. 0. 0. 0. 1.]\n",
      " [1. 0. 0. 0. 0. 0. 0. 0. 1.]\n",
      " [1. 0. 0. 0. 0. 0. 0. 0. 1.]\n",
      " [1. 0. 0. 0. 0. 0. 0. 0. 1.]\n",
      " [1. 1. 1. 1. 1. 1. 1. 1. 1.]]\n"
     ]
    }
   ],
   "source": [
    "import numpy as np\n",
    "\n",
    "rows, cols = map(int, input(\"Enter the number of rows and columns separated by space: \").split())\n",
    "\n",
    "array = np.ones((rows, cols))\n",
    "print(\"original array:\")\n",
    "print(array)\n",
    "\n",
    "array[1:-1, 1:-1] = 0\n",
    "\n",
    "print(\"Updated array:\")\n",
    "print(array)\n"
   ]
  },
  {
   "cell_type": "markdown",
   "id": "7d0dd2c2",
   "metadata": {},
   "source": [
    "## 6. Write a Python program to add a border (filled with 0's) around an existing array.\n",
    "Expected Output:<br>\n",
    "Original array:<br>\n",
    "[[ 1. 1. 1.]<br>\n",
    "[ 1. 1. 1.]<br>\n",
    "[ 1. 1. 1.]]<br>\n",
    "1 on the border and 0 inside in the array<br>\n",
    "[[ 0. 0. 0. 0. 0.]<br>\n",
    "[ 0. 1. 1. 1. 0.]<br>\n",
    "[ 0. 1. 1. 1. 0.]<br>\n",
    "[ 0. 1. 1. 1. 0.]<br>\n",
    "[ 0. 0. 0. 0. 0.]]<br>"
   ]
  },
  {
   "cell_type": "code",
   "execution_count": 20,
   "id": "1d977e0b",
   "metadata": {},
   "outputs": [
    {
     "name": "stdout",
     "output_type": "stream",
     "text": [
      "Enter the number of rows and columns separated by space: 2 3\n",
      "original array:\n",
      "[[1. 1. 1.]\n",
      " [1. 1. 1.]]\n",
      "updated array:\n",
      "[[0. 0. 0. 0. 0.]\n",
      " [0. 1. 1. 1. 0.]\n",
      " [0. 1. 1. 1. 0.]\n",
      " [0. 0. 0. 0. 0.]]\n"
     ]
    }
   ],
   "source": [
    "import numpy as np\n",
    "\n",
    "rows, cols = map(int, input(\"Enter the number of rows and columns separated by space: \").split())\n",
    "\n",
    "array = np.ones((rows, cols))\n",
    "print(\"original array:\")\n",
    "print(array)\n",
    "\n",
    "updated_array=np.zeros((rows+2,cols+2))\n",
    "updated_array[1:-1, 1:-1] = array\n",
    "\n",
    "print(\"updated array:\")\n",
    "print(updated_array)"
   ]
  },
  {
   "cell_type": "markdown",
   "id": "5a188e4a",
   "metadata": {},
   "source": [
    "## 7. Write a Python program to create a 8x8 matrix and fill it with a checkerboard pattern.\n",
    "Checkerboard pattern:<br>\n",
    "[[0 1 0 1 0 1 0 1]<br>\n",
    "[1 0 1 0 1 0 1 0]<br>\n",
    "[0 1 0 1 0 1 0 1]<br>\n",
    "[1 0 1 0 1 0 1 0]<br>\n",
    "[0 1 0 1 0 1 0 1]<br>\n",
    "[1 0 1 0 1 0 1 0]<br>\n",
    "[0 1 0 1 0 1 0 1]<br>\n",
    "[1 0 1 0 1 0 1 0]]"
   ]
  },
  {
   "cell_type": "code",
   "execution_count": 24,
   "id": "87a0fdde",
   "metadata": {},
   "outputs": [
    {
     "name": "stdout",
     "output_type": "stream",
     "text": [
      "Enter the size of board: 8\n",
      "original array:\n",
      "[[0. 0. 0. 0. 0. 0. 0. 0.]\n",
      " [0. 0. 0. 0. 0. 0. 0. 0.]\n",
      " [0. 0. 0. 0. 0. 0. 0. 0.]\n",
      " [0. 0. 0. 0. 0. 0. 0. 0.]\n",
      " [0. 0. 0. 0. 0. 0. 0. 0.]\n",
      " [0. 0. 0. 0. 0. 0. 0. 0.]\n",
      " [0. 0. 0. 0. 0. 0. 0. 0.]\n",
      " [0. 0. 0. 0. 0. 0. 0. 0.]]\n",
      "original array:\n",
      "[[0. 1. 0. 1. 0. 1. 0. 1.]\n",
      " [1. 0. 1. 0. 1. 0. 1. 0.]\n",
      " [0. 1. 0. 1. 0. 1. 0. 1.]\n",
      " [1. 0. 1. 0. 1. 0. 1. 0.]\n",
      " [0. 1. 0. 1. 0. 1. 0. 1.]\n",
      " [1. 0. 1. 0. 1. 0. 1. 0.]\n",
      " [0. 1. 0. 1. 0. 1. 0. 1.]\n",
      " [1. 0. 1. 0. 1. 0. 1. 0.]]\n"
     ]
    }
   ],
   "source": [
    "import numpy as np\n",
    "\n",
    "size =int( input(\"Enter the size of board: \"))\n",
    "\n",
    "array = np.zeros((size, size))\n",
    "# print(\"original array:\")\n",
    "# print(array)\n",
    "\n",
    "array[::2,1::2]=1\n",
    "array[1::2,::2]=1\n",
    "print(\"original array:\")\n",
    "print(array)\n"
   ]
  },
  {
   "cell_type": "markdown",
   "id": "2bbf1583",
   "metadata": {},
   "source": [
    "## 8. Write a Python program to convert a list and tuple into arrays.\n",
    "List to array:<br>\n",
    "[1 2 3 4 5 6 7 8]<br>\n",
    "Tuple to array:<br>\n",
    "[[8 4 6]<br>\n",
    "[1 2 3]]<br>"
   ]
  },
  {
   "cell_type": "code",
   "execution_count": 25,
   "id": "b0adfe06",
   "metadata": {},
   "outputs": [
    {
     "name": "stdout",
     "output_type": "stream",
     "text": [
      "List to array:\n",
      "[1 2 3 4 5 6 7 8]\n",
      "Tuple to array:\n",
      "[[8 4 6]\n",
      " [1 2 3]]\n"
     ]
    }
   ],
   "source": [
    "import numpy as np\n",
    "\n",
    "list_data = [1, 2, 3, 4, 5, 6, 7, 8]\n",
    "array_from_list = np.array(list_data)\n",
    "\n",
    "tuple_data = ((8, 4, 6), (1, 2, 3))\n",
    "array_from_tuple = np.array(tuple_data)\n",
    "\n",
    "print(\"List to array:\")\n",
    "print(array_from_list)\n",
    "\n",
    "print(\"Tuple to array:\")\n",
    "print(array_from_tuple)\n"
   ]
  },
  {
   "cell_type": "markdown",
   "id": "af5b9e6b",
   "metadata": {},
   "source": [
    "## 9. Write a Python program to append values to the end of an array.\n",
    "Expected Output:<br>\n",
    "Original array:<br>\n",
    "[10, 20, 30]<br>\n",
    "\n",
    "After append values to the end of the array:<br>\n",
    "[10 20 30 40 50 60 70 80 90]<br>"
   ]
  },
  {
   "cell_type": "code",
   "execution_count": 26,
   "id": "83aa6a53",
   "metadata": {},
   "outputs": [
    {
     "name": "stdout",
     "output_type": "stream",
     "text": [
      "Enter the elements of the original array separated by spaces: 10 20 30\n",
      "Enter the values to append separated by spaces: 40 50 60 70\n",
      "Original array:\n",
      "[10 20 30]\n",
      "Updated array:\n",
      "[10 20 30 40 50 60 70]\n"
     ]
    }
   ],
   "source": [
    "import numpy as np\n",
    "\n",
    "original_input = input(\"Enter the elements of the original array separated by spaces: \")\n",
    "original_array = np.array([int(x) for x in original_input.split()])\n",
    "\n",
    "append_input = input(\"Enter the values to append separated by spaces: \")\n",
    "values_to_append = [int(x) for x in append_input.split()]\n",
    "\n",
    "updated_array = np.append(original_array, values_to_append)\n",
    "\n",
    "print(\"Original array:\")\n",
    "print(original_array)\n",
    "\n",
    "print(\"Updated array:\")\n",
    "print(updated_array)\n"
   ]
  },
  {
   "cell_type": "markdown",
   "id": "0b8bbdbc",
   "metadata": {},
   "source": [
    "## 10. Write a Python program to find the real and imaginary parts of an array of complex numbers.\n",
    "Expected Output:<br>\n",
    "Original array [ 1.00000000+0.j 0.70710678+0.70710678j]<br>\n",
    "Real part of the array:<br>\n",
    "[ 1. 0.70710678]<br>\n",
    "Imaginary part of the array:<br>\n",
    "[ 0. 0.70710678]<br>"
   ]
  },
  {
   "cell_type": "code",
   "execution_count": null,
   "id": "35f604b5",
   "metadata": {},
   "outputs": [],
   "source": [
    "import numpy as np\n",
    "\n",
    "complex_array = np.array([1 + 0j, 0.70710678 + 0.70710678j])\n",
    "\n",
    "real_part = complex_array.real\n",
    "\n",
    "imaginary_part = complex_array.imag\n",
    "\n",
    "print(\"Original array:\")\n",
    "print(complex_array)\n",
    "\n",
    "print(\"Real part of the array:\")\n",
    "print(real_part)\n",
    "\n",
    "print(\"Imaginary part of the array:\")\n",
    "print(imaginary_part)\n"
   ]
  },
  {
   "cell_type": "markdown",
   "id": "fd6552f7",
   "metadata": {},
   "source": [
    "## 11. Write a Python program to find the number of elements of an array, length of one\n",
    "array element in bytes and total bytes consumed by the elements.<br>\n",
    "Expected Output:<br>\n",
    "Size of the array: 3<br>\n",
    "Length of one array element in bytes: 8<br>\n",
    "Total bytes consumed by the elements of the array: 24<br>"
   ]
  },
  {
   "cell_type": "code",
   "execution_count": 32,
   "id": "fd22a981",
   "metadata": {},
   "outputs": [
    {
     "name": "stdout",
     "output_type": "stream",
     "text": [
      "Size of the array: 4\n",
      "Length of one array element in bytes: 4\n",
      "Total bytes consumed by the elements of the array: 16\n"
     ]
    }
   ],
   "source": [
    "import numpy as np\n",
    "\n",
    "# original_input = input(\"Enter the elements of the array separated by spaces: \")\n",
    "# array = np.array([int(x) for x in original_input.split()])\n",
    "array = np.array([10, 20, 30, 40])\n",
    "\n",
    "num_elements = array.size\n",
    "\n",
    "element_size = array.itemsize\n",
    "\n",
    "total_bytes = num_elements * element_size\n",
    "\n",
    "print(f\"Size of the array: {num_elements}\")\n",
    "print(f\"Length of one array element in bytes: {element_size}\")\n",
    "print(f\"Total bytes consumed by the elements of the array: {total_bytes}\")\n"
   ]
  },
  {
   "cell_type": "markdown",
   "id": "55a130ef",
   "metadata": {},
   "source": [
    "## 13. Write a Python program to find the set difference of two arrays. The set difference will return the sorted, unique values in array1 that are not in array2.\n",
    "Expected Output:<br>\n",
    "Array1: [ 0 10 20 40 60 80]<br>\n",
    "Array2: [10, 30, 40, 50, 70, 90]<br>\n",
    "Set difference between two arrays:<br>\n",
    "[ 0 20 60 80]<br>"
   ]
  },
  {
   "cell_type": "code",
   "execution_count": null,
   "id": "304f6295",
   "metadata": {},
   "outputs": [],
   "source": [
    "import numpy as np\n",
    "\n",
    "array1 = np.array([0, 10, 20, 40, 60, 80])\n",
    "array2 = np.array([10, 30, 40, 50, 70, 90])\n",
    "'''\n",
    "numpy.setdiff1d() function find the set difference of two \n",
    "arrays and return the unique values in arr1 that are not in arr2.\n",
    "'''\n",
    "set_difference = np.setdiff1d(array1, array2)\n",
    "\n",
    "print(\"Array1:\", array1)\n",
    "print(\"Array2:\", array2)\n",
    "print(\"Set difference between two arrays:\")\n",
    "print(set_difference)\n",
    "\n"
   ]
  },
  {
   "cell_type": "markdown",
   "id": "e4c7b65e",
   "metadata": {},
   "source": [
    "## 14. Write a Python program to find the set exclusive-or of two arrays. Set exclusive-or will return the sorted, unique values that are in only one (not both) of the input arrays.\n",
    "Array1: [ 0 10 20 40 60 80]<br>\n",
    "Array2: [10, 30, 40, 50, 70]<br>\n",
    "Unique values that are in only one (not both) of the input arrays:<br>\n",
    "[ 0 20 30 50 60 70 80]<br>\n"
   ]
  },
  {
   "cell_type": "code",
   "execution_count": 1,
   "id": "02b5ebb6",
   "metadata": {},
   "outputs": [
    {
     "name": "stdout",
     "output_type": "stream",
     "text": [
      "Array1: [ 0 10 20 40 60 80]\n",
      "Array2: [10 30 40 50 70]\n",
      "Unique values that are in only one (not both) of the input arrays:\n",
      "[ 0 20 30 50 60 70 80]\n"
     ]
    }
   ],
   "source": [
    "import numpy as np\n",
    "\n",
    "array1 = np.array([0, 10, 20, 40, 60, 80])\n",
    "array2 = np.array([10, 30, 40, 50, 70])\n",
    "'''\n",
    "\n",
    "'''\n",
    "exclusive_or = np.setxor1d(array1, array2)\n",
    "\n",
    "print(\"Array1:\", array1)\n",
    "print(\"Array2:\", array2)\n",
    "print(\"Unique values that are in only one (not both) of the input arrays:\")\n",
    "print(exclusive_or)\n"
   ]
  },
  {
   "cell_type": "markdown",
   "id": "47b06a24",
   "metadata": {},
   "source": [
    "## 15. Write a Python program compare two arrays using numpy.\n",
    "Array a: [1 2]<br>\n",
    "Array b: [4 5]<br>\n",
    "a > b<br>\n",
    "[False False]<br>\n",
    "a >= b<br>\n",
    "[False False]<br>\n",
    "a < b<br>\n",
    "[ True True]<br>\n",
    "a <= b<br>\n",
    "[ True True]<br>"
   ]
  },
  {
   "cell_type": "code",
   "execution_count": 2,
   "id": "0da3059a",
   "metadata": {},
   "outputs": [
    {
     "name": "stdout",
     "output_type": "stream",
     "text": [
      "a > b\n",
      "[False False]\n",
      "a >= b\n",
      "[False False]\n",
      "a < b\n",
      "[ True  True]\n",
      "a <= b\n",
      "[ True  True]\n"
     ]
    }
   ],
   "source": [
    "import numpy as np\n",
    "\n",
    "a = np.array([1, 2])\n",
    "b = np.array([4, 5])\n",
    "\n",
    "greater_than = a > b\n",
    "greater_than_or_equal = a >= b\n",
    "less_than = a < b\n",
    "less_than_or_equal = a <= b\n",
    "\n",
    "print(\"a > b\")\n",
    "print(greater_than)\n",
    "\n",
    "print(\"a >= b\")\n",
    "print(greater_than_or_equal)\n",
    "\n",
    "print(\"a < b\")\n",
    "print(less_than)\n",
    "\n",
    "print(\"a <= b\")\n",
    "print(less_than_or_equal)\n"
   ]
  },
  {
   "cell_type": "markdown",
   "id": "58943d16",
   "metadata": {},
   "source": [
    "## 15. Write a Python program to save a NumPy array to a text file.\n"
   ]
  },
  {
   "cell_type": "code",
   "execution_count": 4,
   "id": "b88a4090",
   "metadata": {},
   "outputs": [
    {
     "name": "stdout",
     "output_type": "stream",
     "text": [
      "Array saved to 'array.txt'\n"
     ]
    }
   ],
   "source": [
    "import numpy as np\n",
    "\n",
    "# Create a NumPy array\n",
    "array = np.array([[1, 2, 3], [4, 5, 6], [7, 8, 9]])\n",
    "\n",
    "# Save the array to a text file\n",
    "np.savetxt('array.txt', array, fmt='%d')\n",
    "\n",
    "print(\"Array saved to 'array.txt'\")\n"
   ]
  },
  {
   "cell_type": "markdown",
   "id": "d0908d69",
   "metadata": {},
   "source": [
    "## 16. Write a Python program to create a contiguous flattened array.\n",
    "Original array:<br>\n",
    "[[10 20 30]<br>\n",
    "[20 40 50]]<br>\n",
    "New flattened array:<br>\n",
    "[10 20 30 20 40 50]"
   ]
  },
  {
   "cell_type": "code",
   "execution_count": 5,
   "id": "48d283d3",
   "metadata": {},
   "outputs": [
    {
     "name": "stdout",
     "output_type": "stream",
     "text": [
      "Original array:\n",
      "[[10 20 30]\n",
      " [20 40 50]]\n",
      "New flattened array:\n",
      "[10 20 30 20 40 50]\n"
     ]
    }
   ],
   "source": [
    "import numpy as np\n",
    "\n",
    "original_array = np.array([[10, 20, 30], [20, 40, 50]])\n",
    "\n",
    "'''numpy.ndarray.flatten() function returns a copy of the array collapsed into one dimension.'''\n",
    "flattened_array = original_array.flatten()\n",
    "\n",
    "print(\"Original array:\")\n",
    "print(original_array)\n",
    "print(\"New flattened array:\")\n",
    "print(flattened_array)\n"
   ]
  },
  {
   "cell_type": "markdown",
   "id": "3aaa3ab9",
   "metadata": {},
   "source": [
    "## 17. Write a Python program to change the data type of an array.\n",
    "Expected Output:<br>\n",
    "[[ 2 4 6]<br>\n",
    "[ 6 8 10]]<br>\n",
    "Data type of the array x is: int32<br>\n",
    "New Type: float64<br>\n",
    "[[ 2. 4. 6.]<br>\n",
    "[ 6. 8. 10.]]<br>"
   ]
  },
  {
   "cell_type": "code",
   "execution_count": 3,
   "id": "98d21aa3",
   "metadata": {},
   "outputs": [
    {
     "name": "stdout",
     "output_type": "stream",
     "text": [
      "Original array:\n",
      "[[ 2  4  6]\n",
      " [ 6  8 10]]\n",
      "Data type of the array x is: int32\n",
      "[[ 2.  4.  6.]\n",
      " [ 6.  8. 10.]]\n",
      "New Type: float64\n"
     ]
    }
   ],
   "source": [
    "import numpy as np\n",
    "\n",
    "array = np.array([[2, 4, 6], [6, 8, 10]])\n",
    "\n",
    "print(\"Original array:\")\n",
    "print(array)\n",
    "print(\"Data type of the array x is:\", array.dtype)\n",
    "\n",
    "new_array = array.astype(np.float64)\n",
    "\n",
    "print(new_array)\n",
    "print(\"New Type: float64\")"
   ]
  },
  {
   "cell_type": "markdown",
   "id": "f8be62bd",
   "metadata": {},
   "source": [
    "## 18. Write a Python program to create a 3-D array with ones on a diagonal and zeros elsewhere.\n",
    "Expected Output:\n",
    "[[ 1. 0. 0.]\n",
    "[ 0. 1. 0.]\n",
    "[ 0. 0. 1.]]"
   ]
  },
  {
   "cell_type": "code",
   "execution_count": 7,
   "id": "cab1be35",
   "metadata": {},
   "outputs": [
    {
     "name": "stdout",
     "output_type": "stream",
     "text": [
      "Enter the size of board: 8\n",
      "updated array:\n",
      "[[1. 0. 0. 0. 0. 0. 0. 0.]\n",
      " [0. 1. 0. 0. 0. 0. 0. 0.]\n",
      " [0. 0. 1. 0. 0. 0. 0. 0.]\n",
      " [0. 0. 0. 1. 0. 0. 0. 0.]\n",
      " [0. 0. 0. 0. 1. 0. 0. 0.]\n",
      " [0. 0. 0. 0. 0. 1. 0. 0.]\n",
      " [0. 0. 0. 0. 0. 0. 1. 0.]\n",
      " [0. 0. 0. 0. 0. 0. 0. 1.]]\n"
     ]
    }
   ],
   "source": [
    "import numpy as np\n",
    "\n",
    "import numpy as np\n",
    "\n",
    "size =int( input(\"Enter the size of board: \"))\n",
    "\n",
    "array = np.zeros((size, size))\n",
    "# print(\"original array:\")\n",
    "# print(array)\n",
    "\n",
    "for i in range(size):\n",
    "    array[i,i]=1\n",
    "print(\"updated array:\")\n",
    "print(array)\n",
    "\n",
    "\n",
    "# Create a 3-D array with ones on the diagonal and zeros elsewhere\n",
    "# array = np.eye(3)\n",
    "# print(array)"
   ]
  },
  {
   "cell_type": "markdown",
   "id": "985e8192",
   "metadata": {},
   "source": [
    "## 19. Write a Python program to create an array which looks like below array.\n",
    "Expected Output:<br>\n",
    "[[ 0. 0. 0.]<br>\n",
    "[ 1. 0. 0.]<br>\n",
    "[ 1. 1. 0.]<br>\n",
    "[ 1. 1. 1.]]<br>"
   ]
  },
  {
   "cell_type": "code",
   "execution_count": 21,
   "id": "29721cb6",
   "metadata": {},
   "outputs": [
    {
     "name": "stdout",
     "output_type": "stream",
     "text": [
      "Enter the number of rows and columns separated by space: 4 3\n",
      "original array:\n",
      "[[0. 0. 0.]\n",
      " [1. 0. 0.]\n",
      " [1. 1. 0.]\n",
      " [1. 1. 1.]]\n"
     ]
    }
   ],
   "source": [
    "import numpy as np\n",
    "\n",
    "rows, cols = map(int, input(\"Enter the number of rows and columns separated by space: \").split())\n",
    "\n",
    "array = np.zeros((rows, cols))\n",
    "# print(\"original array:\")\n",
    "# print(array)\n",
    "\n",
    "for i in range(1,rows):\n",
    "    array[i, :i] = 1\n",
    "    \n",
    "print(\"original array:\")\n",
    "print(array)"
   ]
  },
  {
   "cell_type": "markdown",
   "id": "637c9fbd",
   "metadata": {},
   "source": [
    "## 20. Write a Python program to concatenate two 2-dimensional arrays.\n",
    "Expected Output:<br>\n",
    "Sample arrays: ([[0, 1, 3], [5, 7, 9]], [[0, 2, 4], [6, 8, 10]]<br>\n",
    "Expected Output:<br>\n",
    "[[ 0 1 3 0 2 4]<br>\n",
    "[ 5 7 9 6 8 10]]<br>"
   ]
  },
  {
   "cell_type": "code",
   "execution_count": 22,
   "id": "945585a3",
   "metadata": {},
   "outputs": [
    {
     "name": "stdout",
     "output_type": "stream",
     "text": [
      "Concatenated array:\n",
      "[[ 0  1  3  0  2  4]\n",
      " [ 5  7  9  6  8 10]]\n"
     ]
    }
   ],
   "source": [
    "import numpy as np\n",
    "\n",
    "array1 = np.array([[0, 1, 3], [5, 7, 9]])\n",
    "array2 = np.array([[0, 2, 4], [6, 8, 10]])\n",
    "\n",
    "concatenated_array = np.concatenate((array1, array2), axis=1)\n",
    "\n",
    "print(\"Concatenated array:\")\n",
    "print(concatenated_array)"
   ]
  },
  {
   "cell_type": "markdown",
   "id": "01d57aee",
   "metadata": {},
   "source": [
    "## 21. Write a Python program to make an array immutable (read-only).\n",
    "Expected Output:<br>\n",
    "Test the array is read-only or not:<br>\n",
    "Try to change the value of the first element:<br>\n",
    "Traceback (most recent call last):<br>\n",
    "File \"19236bd0-0bd9-11e7-a232-c706d0968eb6.py\", line 6, in x[0] = 1<br>\n",
    "ValueError: assignment destination is read-only<br>"
   ]
  },
  {
   "cell_type": "code",
   "execution_count": 24,
   "id": "aedd0af6",
   "metadata": {},
   "outputs": [
    {
     "name": "stdout",
     "output_type": "stream",
     "text": [
      "Array: [1 2 3 4 5]\n",
      "trying to replace first element of array: \n",
      "Error: assignment destination is read-only\n"
     ]
    }
   ],
   "source": [
    "import numpy as np\n",
    "\n",
    "array = np.array([1, 2, 3, 4, 5])\n",
    "'''\n",
    "This set the writable flag to false and hence array becomes immutable i.e read-only.\n",
    "'''\n",
    "array.flags.writeable = False\n",
    "\n",
    "print(\"Array:\", array)\n",
    "\n",
    "try:\n",
    "    print(\"trying to replace first element of array: \")\n",
    "    array[0] = 10\n",
    "except ValueError as e:\n",
    "    print(\"Error:\", e)\n"
   ]
  },
  {
   "cell_type": "markdown",
   "id": "80cba11d",
   "metadata": {},
   "source": [
    "## 22. Write a Python program to create an array of (3, 4) shape, multiply every element value by 3 and display the new array.\n",
    "Expected Output:<br>\n",
    "Original array elements:<br>\n",
    "[[ 0 1 2 3]<br>\n",
    "[ 4 5 6 7]<br>\n",
    "[ 8 9 10 11]]<br>\n",
    "New array elements:<br>\n",
    "[[ 0 3 6 9]<br>\n",
    "[12 15 18 21]<br>\n",
    "[24 27 30 33]]<br>"
   ]
  },
  {
   "cell_type": "code",
   "execution_count": 29,
   "id": "608a8764",
   "metadata": {},
   "outputs": [
    {
     "name": "stdout",
     "output_type": "stream",
     "text": [
      "array:\n",
      " [[ 0  1  2  3]\n",
      " [ 4  5  6  7]\n",
      " [ 8  9 10 11]]\n",
      "updated array:\n",
      " [[ 0  3  6  9]\n",
      " [12 15 18 21]\n",
      " [24 27 30 33]]\n"
     ]
    }
   ],
   "source": [
    "import numpy as np\n",
    "\n",
    "matrix1 = np.arange(12).reshape(3, 4)\n",
    "print(\"array:\\n\", matrix1)\n",
    "\n",
    "for i in range(3):\n",
    "    for j in range(4):\n",
    "        matrix1[i,j]=matrix1[i,j]*3\n",
    "print(\"updated array:\\n\", matrix1)"
   ]
  },
  {
   "cell_type": "markdown",
   "id": "7a57f219",
   "metadata": {},
   "source": [
    "## 23. Write a Python program to convert a NumPy array into Python list structure.\n",
    "Expected Output:<br>\n",
    "Original array elements:<br>\n",
    "[[0 1]<br>\n",
    "[2 3]<br>\n",
    "[4 5]]<br>\n",
    "Array to list:<br>\n",
    "[[0, 1], [2, 3], [4, 5]]<br>"
   ]
  },
  {
   "cell_type": "code",
   "execution_count": 30,
   "id": "4ebb0a33",
   "metadata": {},
   "outputs": [
    {
     "name": "stdout",
     "output_type": "stream",
     "text": [
      "array elements:\n",
      "[[0 1]\n",
      " [2 3]\n",
      " [4 5]]\n",
      "Array to list:\n",
      "[[0, 1], [2, 3], [4, 5]]\n"
     ]
    }
   ],
   "source": [
    "import numpy as np\n",
    "\n",
    "original_array = np.array([[0, 1], [2, 3], [4, 5]])\n",
    "\n",
    "print(\"array elements:\")\n",
    "print(original_array)\n",
    "'''\n",
    "we use ndarray.tolist method of NumPy library in Python. It returns a copy of\n",
    "the array data as a Python list (Nested list in case of a multi-dimensional array).\n",
    "'''\n",
    "array_to_list = original_array.tolist()\n",
    "\n",
    "print(\"Array to list:\")\n",
    "print(array_to_list)\n"
   ]
  },
  {
   "cell_type": "markdown",
   "id": "352cdcc2",
   "metadata": {},
   "source": [
    "## 24. Write a Python program to convert a NumPy array into Python list structure.\n",
    "Expected Output:<br>\n",
    "Original array elements:<br>\n",
    "[ 0.26153123 0.52760141 0.5718299 0.5927067 0.7831874 0.69746349<br>\n",
    "0.35399976 0.99469633 0.0694458 0.54711478]<br>\n",
    "Print array values with precision 3:<br>\n",
    "[ 0.262 0.528 0.572 0.593 0.783 0.697 0.354 0.995 0.069 0.547]<br>"
   ]
  },
  {
   "cell_type": "code",
   "execution_count": 33,
   "id": "b219971b",
   "metadata": {},
   "outputs": [
    {
     "name": "stdout",
     "output_type": "stream",
     "text": [
      "Original array elements:\n",
      "[0.68399722 0.15459487 0.92245599 0.25514085 0.55497113 0.17468262\n",
      " 0.58715461 0.11674101 0.37944229 0.94500233]\n",
      "array values with precision 3:\n",
      "['0.684', '0.155', '0.922', '0.255', '0.555', '0.175', '0.587', '0.117', '0.379', '0.945']\n",
      "list values with precision 3:\n",
      "['0.684', '0.155', '0.922', '0.255', '0.555', '0.175', '0.587', '0.117', '0.379', '0.945']\n"
     ]
    }
   ],
   "source": [
    "import numpy as np\n",
    "\n",
    "# Create the original array with random float values\n",
    "original_array = np.random.rand(10)\n",
    "\n",
    "# Print the original array\n",
    "print(\"Original array elements:\")\n",
    "print(original_array)\n",
    "\n",
    "for i in len(original_array):\n",
    "    original_array[i]\n",
    "    \n",
    "\n",
    "print(\"array values with precision 3:\")\n",
    "print([f\"{x:.3f}\" for x in original_array])\n",
    "\n",
    "array_to_list = original_array.tolist()\n",
    "print(\"list values with precision 3:\")\n",
    "print([f\"{x:.3f}\" for x in array_to_list])\n"
   ]
  },
  {
   "cell_type": "markdown",
   "id": "476400be",
   "metadata": {},
   "source": [
    "## 25. Write a Python program to suppresses the use of scientific notation for small numbers in numpy array.\n",
    "Expected Output:<br>\n",
    "Original array elements:<br>\n",
    "[ 1.60000000e-10 1.60000000e+00 1.20000000e+03 2.35000000e-01]<br>\n",
    "Print array values with precision 3:<br>\n",
    "[ 0. 1.6 1200. 0.235]<br>"
   ]
  },
  {
   "cell_type": "code",
   "execution_count": 34,
   "id": "b4baa81b",
   "metadata": {},
   "outputs": [
    {
     "name": "stdout",
     "output_type": "stream",
     "text": [
      "Original array elements:\n",
      "[1.60e-10 1.60e+00 1.20e+03 2.35e-01]\n",
      "Print array values with precision 3:\n",
      "[   0.       1.6   1200.       0.235]\n"
     ]
    }
   ],
   "source": [
    "import numpy as np\n",
    "\n",
    "original_array = np.array([1.6e-10, 1.6, 1200, 0.235])\n",
    "\n",
    "print(\"Original array elements:\")\n",
    "print(original_array)\n",
    "\n",
    "np.set_printoptions(suppress=True, precision=3)\n",
    "\n",
    "print(\"Print array values with precision 3:\")\n",
    "print(original_array)"
   ]
  },
  {
   "cell_type": "markdown",
   "id": "ed40b02b",
   "metadata": {},
   "source": [
    "## 26. Write a Python program to how to add an extra column to an numpy array.\n",
    "Expected Output:<br>\n",
    "[[ 10 20 30 100]<br>\n",
    "[ 40 50 60 200]]"
   ]
  },
  {
   "cell_type": "code",
   "execution_count": 36,
   "id": "3416c835",
   "metadata": {},
   "outputs": [
    {
     "name": "stdout",
     "output_type": "stream",
     "text": [
      "Array using concatenate:\n",
      "[[ 10  20  30 100]\n",
      " [ 40  50  60 200]]\n",
      "Array with extra column:\n",
      "[[ 10  20  30 100]\n",
      " [ 40  50  60 200]]\n",
      "Array with extra column:\n",
      "[[ 10  20  30 100]\n",
      " [ 40  50  60 200]]\n"
     ]
    }
   ],
   "source": [
    "import numpy as np\n",
    "\n",
    "original_array = np.array([[10, 20, 30], [40, 50, 60]])\n",
    "new_column = np.array([[100], [200]])\n",
    "\n",
    "'''\n",
    "numpy.concatenate() function concatenate a sequence of arrays along an existing axis.\n",
    "axis : [int, optional] The axis along which the arrays will be joined. If axis is None,\n",
    "arrays are flattened before use. Default is 0.\n",
    "'''\n",
    "result_array = np.concatenate((original_array, new_column), axis=1)\n",
    "print(\"Array using concatenate:\")\n",
    "print(result_array)\n",
    "\n",
    "\n",
    "'''\n",
    "numpy.column_stack() function is used to stack 1-D arrays as columns into a 2-D array.\n",
    "It takes a sequence of 1-D arrays and stack them as columns to make a single 2-D array.\n",
    "2-D arrays are stacked as-is, just like with hstack function.\n",
    "'''\n",
    "result_array = np.column_stack((original_array, new_column))\n",
    "print(\"Array with extra column:\")\n",
    "print(result_array)\n",
    "\n",
    "\n",
    "'''\n",
    "numpy.hstack() function is used to stack the sequence of \n",
    "input arrays horizontally (i.e. column wise) to make a single array.\n",
    "'''\n",
    "result_array = np.hstack((original_array, new_column))\n",
    "print(\"Array with extra column:\")\n",
    "print(result_array)"
   ]
  },
  {
   "cell_type": "code",
   "execution_count": 41,
   "id": "61c8ee16",
   "metadata": {},
   "outputs": [
    {
     "name": "stdout",
     "output_type": "stream",
     "text": [
      "[[2 4 3 5]\n",
      " [6 8 7 9]]\n"
     ]
    }
   ],
   "source": [
    "import numpy as geek \n",
    "  \n",
    "arr1 = geek.array([[2, 4], [6, 8]]) \n",
    "arr2 = geek.array([[3, 5], [7, 9]]) \n",
    "  \n",
    "gfg = geek.concatenate((arr1, arr2), axis = 1) \n",
    "print (gfg) "
   ]
  },
  {
   "cell_type": "markdown",
   "id": "bb221d44",
   "metadata": {},
   "source": []
  },
  {
   "cell_type": "code",
   "execution_count": null,
   "id": "44b83f17",
   "metadata": {},
   "outputs": [],
   "source": [
    "import numpy as np\n",
    "\n",
    "# Create the original array\n",
    "original_array = np.array([10, 20, 30, 40, 50, 60, 70, 80, 90, 100])\n",
    "\n",
    "# Specify indices of elements to delete (1-based index converted to 0-based)\n",
    "indices_to_delete = [0, 3, 4]  # Removing first, fourth, and fifth elements\n",
    "\n",
    "# Delete the specified elements\n",
    "new_array = np.delete(original_array, indices_to_delete)\n",
    "\n",
    "# Print the original and new arrays\n",
    "print(\"Original array:\")\n",
    "print(original_array)\n",
    "print(\"Delete first, fourth and fifth elements:\")\n",
    "print(new_array)\n"
   ]
  },
  {
   "cell_type": "code",
   "execution_count": 43,
   "id": "8443091c",
   "metadata": {},
   "outputs": [
    {
     "name": "stdout",
     "output_type": "stream",
     "text": [
      "Enter the elements of the array separated by spaces:\n",
      "0 10 20 30 40 50\n",
      "Enter the index of the array want you to delete:\n",
      "2 4\n",
      "original array: [ 0. 10. 20. 30. 40. 50.]\n",
      "Updated array: [ 0. 10. 30. 50.]\n"
     ]
    }
   ],
   "source": [
    "import numpy as np\n",
    "\n",
    "print(\"Enter the elements of the array separated by spaces:\")\n",
    "user_input = input()\n",
    "elements = list(map(float, user_input.split()))\n",
    "array = np.array(elements)\n",
    "\n",
    "print(\"Enter the index of the array want you to delete:\")\n",
    "user_input = input()\n",
    "index = list(map(int, user_input.split()))\n",
    "\n",
    "new_array=np.delete(array,index)\n",
    "\n",
    "print(f\"original array: {array}\")\n",
    "print(f\"Updated array: {new_array}\")"
   ]
  },
  {
   "cell_type": "code",
   "execution_count": null,
   "id": "5e7a8c7d",
   "metadata": {},
   "outputs": [],
   "source": []
  }
 ],
 "metadata": {
  "kernelspec": {
   "display_name": "Python 3 (ipykernel)",
   "language": "python",
   "name": "python3"
  },
  "language_info": {
   "codemirror_mode": {
    "name": "ipython",
    "version": 3
   },
   "file_extension": ".py",
   "mimetype": "text/x-python",
   "name": "python",
   "nbconvert_exporter": "python",
   "pygments_lexer": "ipython3",
   "version": "3.11.5"
  }
 },
 "nbformat": 4,
 "nbformat_minor": 5
}
